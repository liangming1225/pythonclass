{
  "nbformat": 4,
  "nbformat_minor": 0,
  "metadata": {
    "colab": {
      "name": "python20220829.ipynb",
      "provenance": [],
      "authorship_tag": "ABX9TyM/mev6RTTJ0WPDeBhCIzEY",
      "include_colab_link": true
    },
    "kernelspec": {
      "name": "python3",
      "display_name": "Python 3"
    },
    "language_info": {
      "name": "python"
    }
  },
  "cells": [
    {
      "cell_type": "markdown",
      "metadata": {
        "id": "view-in-github",
        "colab_type": "text"
      },
      "source": [
        "<a href=\"https://colab.research.google.com/github/liangming1225/pythonclass/blob/master/python20220829.ipynb\" target=\"_parent\"><img src=\"https://colab.research.google.com/assets/colab-badge.svg\" alt=\"Open In Colab\"/></a>"
      ]
    },
    {
      "cell_type": "code",
      "execution_count": null,
      "metadata": {
        "id": "VN0psnZqm9be"
      },
      "outputs": [],
      "source": []
    },
    {
      "cell_type": "markdown",
      "source": [
        "# 20220829 python\n"
      ],
      "metadata": {
        "id": "AUdIJU-snuGZ"
      }
    },
    {
      "cell_type": "markdown",
      "source": [
        "## 資料型態\n",
        "* int\n",
        "* flaot\n",
        "* bool\n",
        "* str"
      ],
      "metadata": {
        "id": "7ojsirqhqPJv"
      }
    },
    {
      "cell_type": "code",
      "source": [
        "z = 3>2\n",
        "type(z)"
      ],
      "metadata": {
        "colab": {
          "base_uri": "https://localhost:8080/"
        },
        "id": "DgeeNUSOLT9y",
        "outputId": "889473fb-ad82-438b-ef67-d1137381b17c"
      },
      "execution_count": 29,
      "outputs": [
        {
          "output_type": "execute_result",
          "data": {
            "text/plain": [
              "bool"
            ]
          },
          "metadata": {},
          "execution_count": 29
        }
      ]
    },
    {
      "cell_type": "code",
      "source": [
        "x1 = 4\n",
        "y1 = 2\n"
      ],
      "metadata": {
        "id": "9gbpc0n3Mif5"
      },
      "execution_count": 30,
      "outputs": []
    },
    {
      "cell_type": "code",
      "source": [
        "z1 = x1/y1\n",
        "type(z1)"
      ],
      "metadata": {
        "colab": {
          "base_uri": "https://localhost:8080/"
        },
        "id": "I-zUX39YMqrm",
        "outputId": "9806458f-d59f-48cc-f494-b2245ae115ef"
      },
      "execution_count": 33,
      "outputs": [
        {
          "output_type": "execute_result",
          "data": {
            "text/plain": [
              "float"
            ]
          },
          "metadata": {},
          "execution_count": 33
        }
      ]
    },
    {
      "cell_type": "code",
      "source": [
        "z2 = x1//y1\n",
        "type(z2)"
      ],
      "metadata": {
        "colab": {
          "base_uri": "https://localhost:8080/"
        },
        "id": "yFe1iYHgNGjd",
        "outputId": "e9c59b68-db6e-4673-f49a-d51f025462c0"
      },
      "execution_count": 36,
      "outputs": [
        {
          "output_type": "execute_result",
          "data": {
            "text/plain": [
              "int"
            ]
          },
          "metadata": {},
          "execution_count": 36
        }
      ]
    },
    {
      "cell_type": "markdown",
      "source": [
        "## 變數"
      ],
      "metadata": {
        "id": "n3Laug6GoZX0"
      }
    },
    {
      "cell_type": "code",
      "source": [
        "x = 1\n",
        "_abc = 1\n",
        "x = True\n",
        "type(x)"
      ],
      "metadata": {
        "colab": {
          "base_uri": "https://localhost:8080/"
        },
        "id": "cH7khMFZnwqv",
        "outputId": "06acafd7-8dfa-4169-d062-1f97d15949f6"
      },
      "execution_count": null,
      "outputs": [
        {
          "output_type": "execute_result",
          "data": {
            "text/plain": [
              "bool"
            ]
          },
          "metadata": {},
          "execution_count": 10
        }
      ]
    },
    {
      "cell_type": "markdown",
      "source": [],
      "metadata": {
        "id": "qHs58WkgnxUZ"
      }
    },
    {
      "cell_type": "code",
      "source": [
        "a = [5,5,5,5]\n",
        "a[0]\n",
        "for i in range(4):\n",
        "  a[i] = i + 1\n",
        "a[2]"
      ],
      "metadata": {
        "colab": {
          "base_uri": "https://localhost:8080/"
        },
        "id": "880ud9dfpfkP",
        "outputId": "0ba17f42-d4ba-4d90-8625-80038495e648"
      },
      "execution_count": null,
      "outputs": [
        {
          "output_type": "execute_result",
          "data": {
            "text/plain": [
              "3"
            ]
          },
          "metadata": {},
          "execution_count": 19
        }
      ]
    },
    {
      "cell_type": "markdown",
      "source": [
        "## Line Notify 使用簡介\n"
      ],
      "metadata": {
        "id": "J9NyIG_Vst7L"
      }
    },
    {
      "cell_type": "markdown",
      "source": [
        "* [取得權杖](https://notify-bot.line.me/en/)"
      ],
      "metadata": {
        "id": "9mgH7eoYuTqE"
      }
    },
    {
      "cell_type": "markdown",
      "source": [
        "!wget https://raw.githubusercontent.com/victorgau/khpy_linenotify_intro/main/py/linenotify.py"
      ],
      "metadata": {
        "id": "ry0Oa6fas9Qo"
      }
    },
    {
      "cell_type": "code",
      "source": [
        "!wget https://raw.githubusercontent.com/victorgau/khpy_linenotify_intro/main/py/linenotify.py"
      ],
      "metadata": {
        "colab": {
          "base_uri": "https://localhost:8080/"
        },
        "id": "XinnQDXItnBK",
        "outputId": "1313722f-32ad-4270-f23f-d10c2f03c850"
      },
      "execution_count": 23,
      "outputs": [
        {
          "output_type": "stream",
          "name": "stdout",
          "text": [
            "--2022-08-29 03:54:53--  https://raw.githubusercontent.com/victorgau/khpy_linenotify_intro/main/py/linenotify.py\n",
            "Resolving raw.githubusercontent.com (raw.githubusercontent.com)... 185.199.108.133, 185.199.109.133, 185.199.110.133, ...\n",
            "Connecting to raw.githubusercontent.com (raw.githubusercontent.com)|185.199.108.133|:443... connected.\n",
            "HTTP request sent, awaiting response... 200 OK\n",
            "Length: 818 [text/plain]\n",
            "Saving to: ‘linenotify.py’\n",
            "\n",
            "\rlinenotify.py         0%[                    ]       0  --.-KB/s               \rlinenotify.py       100%[===================>]     818  --.-KB/s    in 0s      \n",
            "\n",
            "2022-08-29 03:54:53 (44.3 MB/s) - ‘linenotify.py’ saved [818/818]\n",
            "\n"
          ]
        }
      ]
    },
    {
      "cell_type": "code",
      "source": [
        "from linenotify import Notify"
      ],
      "metadata": {
        "id": "AY2ToRy5v8PP"
      },
      "execution_count": 24,
      "outputs": []
    },
    {
      "cell_type": "code",
      "source": [
        "token = \"zrjRA5wwJQWMyEHFxYodb216uDR9SZ3WHa0PAkOKEJr\""
      ],
      "metadata": {
        "id": "6I8A7FIKv-1X"
      },
      "execution_count": 26,
      "outputs": []
    },
    {
      "cell_type": "code",
      "source": [
        "Notify(token,\"沒Token，借測試！\",446,1988)"
      ],
      "metadata": {
        "colab": {
          "base_uri": "https://localhost:8080/"
        },
        "id": "3HggaASxF0Rw",
        "outputId": "e61e1b4a-0571-4693-aeba-78838b1f352a"
      },
      "execution_count": 27,
      "outputs": [
        {
          "output_type": "execute_result",
          "data": {
            "text/plain": [
              "<Response [200]>"
            ]
          },
          "metadata": {},
          "execution_count": 27
        }
      ]
    },
    {
      "cell_type": "markdown",
      "source": [
        "## 基本容器型別\n",
        "* list 列表 []\n",
        "* tuple 元組 ()\n",
        "* dict 字典 {}\n",
        "* set 集合 {}"
      ],
      "metadata": {
        "id": "AFV4jHE6QEW9"
      }
    },
    {
      "cell_type": "code",
      "source": [
        "a=['1aa',2,3,4,'5aa']\n",
        "print(a[0])\n",
        "type(a[0])\n",
        "a[1:3]\n",
        "a[1:]\n",
        "a[:3]\n",
        "a[-3:]\n",
        "b = ('1aaa',2,3,4,'5aaa')\n",
        "c = {'apple':10, 'banana':20, 'orange':30}\n",
        "c['banana']\n",
        "print(c['banana'])\n",
        "d = {'a','b','c','d','e'}\n",
        "e = {'c','d','f','g'}\n",
        "d|e\n",
        "f = list('abcde')\n",
        "f"
      ],
      "metadata": {
        "colab": {
          "base_uri": "https://localhost:8080/"
        },
        "id": "TJAy4QKgTPWl",
        "outputId": "f3f0cd28-a332-43a6-e5f2-997ac0472f04"
      },
      "execution_count": 87,
      "outputs": [
        {
          "output_type": "stream",
          "name": "stdout",
          "text": [
            "1aa\n",
            "20\n"
          ]
        },
        {
          "output_type": "execute_result",
          "data": {
            "text/plain": [
              "['a', 'b', 'c', 'd', 'e']"
            ]
          },
          "metadata": {},
          "execution_count": 87
        }
      ]
    },
    {
      "cell_type": "code",
      "source": [
        "url = \"https://uc.udn.com.tw/photo/2021/08/29/realtime/13631597.jpeg\""
      ],
      "metadata": {
        "id": "KM6MlgqdWma3"
      },
      "execution_count": 54,
      "outputs": []
    },
    {
      "cell_type": "code",
      "source": [
        "url[-13:]\n",
        "url.split('/')[-1]"
      ],
      "metadata": {
        "colab": {
          "base_uri": "https://localhost:8080/",
          "height": 35
        },
        "id": "ZD5GGow5W1x7",
        "outputId": "781239cf-9eee-4cf2-e342-06e8c0683120"
      },
      "execution_count": 58,
      "outputs": [
        {
          "output_type": "execute_result",
          "data": {
            "text/plain": [
              "'13631597.jpeg'"
            ],
            "application/vnd.google.colaboratory.intrinsic+json": {
              "type": "string"
            }
          },
          "metadata": {},
          "execution_count": 58
        }
      ]
    },
    {
      "cell_type": "code",
      "source": [
        "f[1:-1]"
      ],
      "metadata": {
        "colab": {
          "base_uri": "https://localhost:8080/"
        },
        "id": "J93Zi0wLXiV4",
        "outputId": "027cd21e-b8be-4855-f482-80203cd65983"
      },
      "execution_count": 69,
      "outputs": [
        {
          "output_type": "execute_result",
          "data": {
            "text/plain": [
              "['b', 'c', 'd']"
            ]
          },
          "metadata": {},
          "execution_count": 69
        }
      ]
    },
    {
      "cell_type": "code",
      "source": [
        "f2 = tuple('abcde')\n",
        "f2\n",
        "f2.count('c')\n",
        "f[2] = 123\n",
        "f[2]"
      ],
      "metadata": {
        "colab": {
          "base_uri": "https://localhost:8080/"
        },
        "id": "f5n6fghLYR3k",
        "outputId": "00dfc75d-c7c0-407d-d68b-8483a6096e88"
      },
      "execution_count": 80,
      "outputs": [
        {
          "output_type": "execute_result",
          "data": {
            "text/plain": [
              "123"
            ]
          },
          "metadata": {},
          "execution_count": 80
        }
      ]
    },
    {
      "cell_type": "code",
      "source": [
        "d = {}\n",
        "type(dic)\n",
        "e = set()\n",
        "type(e)\n",
        "d['dog'] = '狗狗'\n",
        "d['cat'] = '貓貓'\n",
        "d.keys()\n",
        "d.values()\n",
        "d.items()"
      ],
      "metadata": {
        "colab": {
          "base_uri": "https://localhost:8080/"
        },
        "id": "4lrp3ZawZfNS",
        "outputId": "99237e5f-d9b8-4fc6-f3d0-ae69a90e5602"
      },
      "execution_count": 93,
      "outputs": [
        {
          "output_type": "execute_result",
          "data": {
            "text/plain": [
              "dict_items([('dog', '狗狗'), ('cat', '貓貓')])"
            ]
          },
          "metadata": {},
          "execution_count": 93
        }
      ]
    },
    {
      "cell_type": "code",
      "source": [
        "e1 = set('abcde')\n",
        "e2 = set('cdefg')\n",
        "e1\n",
        "e2\n",
        "print(e1 & e2)\n",
        "print(e1 | e2)\n",
        "print(e2-e1)"
      ],
      "metadata": {
        "colab": {
          "base_uri": "https://localhost:8080/"
        },
        "id": "JjS__ICzaUKk",
        "outputId": "1e15f5c6-a279-4655-aa3c-0a2a7a781f64"
      },
      "execution_count": 99,
      "outputs": [
        {
          "output_type": "stream",
          "name": "stdout",
          "text": [
            "{'c', 'e', 'd'}\n",
            "{'g', 'f', 'c', 'e', 'd', 'b', 'a'}\n",
            "{'g', 'f'}\n"
          ]
        }
      ]
    },
    {
      "cell_type": "markdown",
      "source": [
        "## 地圖\n",
        "* folium\n",
        "* geocoder"
      ],
      "metadata": {
        "id": "83QRDvIweTOI"
      }
    },
    {
      "cell_type": "code",
      "source": [
        "import folium\n",
        "m = folium.Map(location=[45.5236, -122.6750])\n",
        "m1 = folium.Map()\n",
        "m2 = folium.Map(location=[22.6273, 120.3014])\n",
        "m2 = folium.Map(location=[22.6273, 120.3014], zoom_start=16)\n",
        "m2.save('高雄市.html')\n",
        "folium.Marker([22.6273, 120.3014], popup=\"高雄市\").add_to(m2)\n",
        "m2"
      ],
      "metadata": {
        "colab": {
          "base_uri": "https://localhost:8080/",
          "height": 520
        },
        "id": "fxmShZ5Oh0Vw",
        "outputId": "8909eea5-2833-4870-ceef-193af2289dc8"
      },
      "execution_count": 111,
      "outputs": [
        {
          "output_type": "execute_result",
          "data": {
            "text/plain": [
              "<folium.folium.Map at 0x7fa50ae9a350>"
            ],
            "text/html": [
              "<div style=\"width:100%;\"><div style=\"position:relative;width:100%;height:0;padding-bottom:60%;\"><span style=\"color:#565656\">Make this Notebook Trusted to load map: File -> Trust Notebook</span><iframe srcdoc=\"&lt;!DOCTYPE html&gt;\n",
              "&lt;head&gt;    \n",
              "    &lt;meta http-equiv=&quot;content-type&quot; content=&quot;text/html; charset=UTF-8&quot; /&gt;\n",
              "    \n",
              "        &lt;script&gt;\n",
              "            L_NO_TOUCH = false;\n",
              "            L_DISABLE_3D = false;\n",
              "        &lt;/script&gt;\n",
              "    \n",
              "    &lt;style&gt;html, body {width: 100%;height: 100%;margin: 0;padding: 0;}&lt;/style&gt;\n",
              "    &lt;style&gt;#map {position:absolute;top:0;bottom:0;right:0;left:0;}&lt;/style&gt;\n",
              "    &lt;script src=&quot;https://cdn.jsdelivr.net/npm/leaflet@1.6.0/dist/leaflet.js&quot;&gt;&lt;/script&gt;\n",
              "    &lt;script src=&quot;https://code.jquery.com/jquery-1.12.4.min.js&quot;&gt;&lt;/script&gt;\n",
              "    &lt;script src=&quot;https://maxcdn.bootstrapcdn.com/bootstrap/3.2.0/js/bootstrap.min.js&quot;&gt;&lt;/script&gt;\n",
              "    &lt;script src=&quot;https://cdnjs.cloudflare.com/ajax/libs/Leaflet.awesome-markers/2.0.2/leaflet.awesome-markers.js&quot;&gt;&lt;/script&gt;\n",
              "    &lt;link rel=&quot;stylesheet&quot; href=&quot;https://cdn.jsdelivr.net/npm/leaflet@1.6.0/dist/leaflet.css&quot;/&gt;\n",
              "    &lt;link rel=&quot;stylesheet&quot; href=&quot;https://maxcdn.bootstrapcdn.com/bootstrap/3.2.0/css/bootstrap.min.css&quot;/&gt;\n",
              "    &lt;link rel=&quot;stylesheet&quot; href=&quot;https://maxcdn.bootstrapcdn.com/bootstrap/3.2.0/css/bootstrap-theme.min.css&quot;/&gt;\n",
              "    &lt;link rel=&quot;stylesheet&quot; href=&quot;https://maxcdn.bootstrapcdn.com/font-awesome/4.6.3/css/font-awesome.min.css&quot;/&gt;\n",
              "    &lt;link rel=&quot;stylesheet&quot; href=&quot;https://cdnjs.cloudflare.com/ajax/libs/Leaflet.awesome-markers/2.0.2/leaflet.awesome-markers.css&quot;/&gt;\n",
              "    &lt;link rel=&quot;stylesheet&quot; href=&quot;https://cdn.jsdelivr.net/gh/python-visualization/folium/folium/templates/leaflet.awesome.rotate.min.css&quot;/&gt;\n",
              "    \n",
              "            &lt;meta name=&quot;viewport&quot; content=&quot;width=device-width,\n",
              "                initial-scale=1.0, maximum-scale=1.0, user-scalable=no&quot; /&gt;\n",
              "            &lt;style&gt;\n",
              "                #map_653ef9e2205b6cb3c1d1028be230e99e {\n",
              "                    position: relative;\n",
              "                    width: 100.0%;\n",
              "                    height: 100.0%;\n",
              "                    left: 0.0%;\n",
              "                    top: 0.0%;\n",
              "                }\n",
              "            &lt;/style&gt;\n",
              "        \n",
              "&lt;/head&gt;\n",
              "&lt;body&gt;    \n",
              "    \n",
              "            &lt;div class=&quot;folium-map&quot; id=&quot;map_653ef9e2205b6cb3c1d1028be230e99e&quot; &gt;&lt;/div&gt;\n",
              "        \n",
              "&lt;/body&gt;\n",
              "&lt;script&gt;    \n",
              "    \n",
              "            var map_653ef9e2205b6cb3c1d1028be230e99e = L.map(\n",
              "                &quot;map_653ef9e2205b6cb3c1d1028be230e99e&quot;,\n",
              "                {\n",
              "                    center: [22.6273, 120.3014],\n",
              "                    crs: L.CRS.EPSG3857,\n",
              "                    zoom: 16,\n",
              "                    zoomControl: true,\n",
              "                    preferCanvas: false,\n",
              "                }\n",
              "            );\n",
              "\n",
              "            \n",
              "\n",
              "        \n",
              "    \n",
              "            var tile_layer_1e87a74d6e9e70cb2ea2d92227910d26 = L.tileLayer(\n",
              "                &quot;https://{s}.tile.openstreetmap.org/{z}/{x}/{y}.png&quot;,\n",
              "                {&quot;attribution&quot;: &quot;Data by \\u0026copy; \\u003ca href=\\&quot;http://openstreetmap.org\\&quot;\\u003eOpenStreetMap\\u003c/a\\u003e, under \\u003ca href=\\&quot;http://www.openstreetmap.org/copyright\\&quot;\\u003eODbL\\u003c/a\\u003e.&quot;, &quot;detectRetina&quot;: false, &quot;maxNativeZoom&quot;: 18, &quot;maxZoom&quot;: 18, &quot;minZoom&quot;: 0, &quot;noWrap&quot;: false, &quot;opacity&quot;: 1, &quot;subdomains&quot;: &quot;abc&quot;, &quot;tms&quot;: false}\n",
              "            ).addTo(map_653ef9e2205b6cb3c1d1028be230e99e);\n",
              "        \n",
              "    \n",
              "            var marker_70857298b47bc2afa95f59eb4a44515a = L.marker(\n",
              "                [22.6273, 120.3014],\n",
              "                {}\n",
              "            ).addTo(map_653ef9e2205b6cb3c1d1028be230e99e);\n",
              "        \n",
              "    \n",
              "        var popup_9998727eeb4e53f9a450d31a398c7f68 = L.popup({&quot;maxWidth&quot;: &quot;100%&quot;});\n",
              "\n",
              "        \n",
              "            var html_fb56f6e17740edeeaa028d27e9c227ae = $(`&lt;div id=&quot;html_fb56f6e17740edeeaa028d27e9c227ae&quot; style=&quot;width: 100.0%; height: 100.0%;&quot;&gt;高雄市&lt;/div&gt;`)[0];\n",
              "            popup_9998727eeb4e53f9a450d31a398c7f68.setContent(html_fb56f6e17740edeeaa028d27e9c227ae);\n",
              "        \n",
              "\n",
              "        marker_70857298b47bc2afa95f59eb4a44515a.bindPopup(popup_9998727eeb4e53f9a450d31a398c7f68)\n",
              "        ;\n",
              "\n",
              "        \n",
              "    \n",
              "&lt;/script&gt;\" style=\"position:absolute;width:100%;height:100%;left:0;top:0;border:none !important;\" allowfullscreen webkitallowfullscreen mozallowfullscreen></iframe></div></div>"
            ]
          },
          "metadata": {},
          "execution_count": 111
        }
      ]
    },
    {
      "cell_type": "markdown",
      "source": [
        "### 設定marker顏色"
      ],
      "metadata": {
        "id": "IBDVTRw7lhck"
      }
    },
    {
      "cell_type": "code",
      "source": [
        "m2 = folium.Map(location=[22.6273, 120.3014], zoom_start=16)\n",
        "folium.Marker([22.6273, 120.3014], popup=\"高雄市\", icon=folium.Icon(color=\"red\")).add_to(m2)\n",
        "m2"
      ],
      "metadata": {
        "colab": {
          "base_uri": "https://localhost:8080/",
          "height": 520
        },
        "id": "ccyV5VselpYy",
        "outputId": "2f719769-c102-4f56-95e2-87115b8cd82d"
      },
      "execution_count": 113,
      "outputs": [
        {
          "output_type": "execute_result",
          "data": {
            "text/plain": [
              "<folium.folium.Map at 0x7fa50af30450>"
            ],
            "text/html": [
              "<div style=\"width:100%;\"><div style=\"position:relative;width:100%;height:0;padding-bottom:60%;\"><span style=\"color:#565656\">Make this Notebook Trusted to load map: File -> Trust Notebook</span><iframe srcdoc=\"&lt;!DOCTYPE html&gt;\n",
              "&lt;head&gt;    \n",
              "    &lt;meta http-equiv=&quot;content-type&quot; content=&quot;text/html; charset=UTF-8&quot; /&gt;\n",
              "    \n",
              "        &lt;script&gt;\n",
              "            L_NO_TOUCH = false;\n",
              "            L_DISABLE_3D = false;\n",
              "        &lt;/script&gt;\n",
              "    \n",
              "    &lt;style&gt;html, body {width: 100%;height: 100%;margin: 0;padding: 0;}&lt;/style&gt;\n",
              "    &lt;style&gt;#map {position:absolute;top:0;bottom:0;right:0;left:0;}&lt;/style&gt;\n",
              "    &lt;script src=&quot;https://cdn.jsdelivr.net/npm/leaflet@1.6.0/dist/leaflet.js&quot;&gt;&lt;/script&gt;\n",
              "    &lt;script src=&quot;https://code.jquery.com/jquery-1.12.4.min.js&quot;&gt;&lt;/script&gt;\n",
              "    &lt;script src=&quot;https://maxcdn.bootstrapcdn.com/bootstrap/3.2.0/js/bootstrap.min.js&quot;&gt;&lt;/script&gt;\n",
              "    &lt;script src=&quot;https://cdnjs.cloudflare.com/ajax/libs/Leaflet.awesome-markers/2.0.2/leaflet.awesome-markers.js&quot;&gt;&lt;/script&gt;\n",
              "    &lt;link rel=&quot;stylesheet&quot; href=&quot;https://cdn.jsdelivr.net/npm/leaflet@1.6.0/dist/leaflet.css&quot;/&gt;\n",
              "    &lt;link rel=&quot;stylesheet&quot; href=&quot;https://maxcdn.bootstrapcdn.com/bootstrap/3.2.0/css/bootstrap.min.css&quot;/&gt;\n",
              "    &lt;link rel=&quot;stylesheet&quot; href=&quot;https://maxcdn.bootstrapcdn.com/bootstrap/3.2.0/css/bootstrap-theme.min.css&quot;/&gt;\n",
              "    &lt;link rel=&quot;stylesheet&quot; href=&quot;https://maxcdn.bootstrapcdn.com/font-awesome/4.6.3/css/font-awesome.min.css&quot;/&gt;\n",
              "    &lt;link rel=&quot;stylesheet&quot; href=&quot;https://cdnjs.cloudflare.com/ajax/libs/Leaflet.awesome-markers/2.0.2/leaflet.awesome-markers.css&quot;/&gt;\n",
              "    &lt;link rel=&quot;stylesheet&quot; href=&quot;https://cdn.jsdelivr.net/gh/python-visualization/folium/folium/templates/leaflet.awesome.rotate.min.css&quot;/&gt;\n",
              "    \n",
              "            &lt;meta name=&quot;viewport&quot; content=&quot;width=device-width,\n",
              "                initial-scale=1.0, maximum-scale=1.0, user-scalable=no&quot; /&gt;\n",
              "            &lt;style&gt;\n",
              "                #map_ec1cb1da062264b7348047e2eb292a3e {\n",
              "                    position: relative;\n",
              "                    width: 100.0%;\n",
              "                    height: 100.0%;\n",
              "                    left: 0.0%;\n",
              "                    top: 0.0%;\n",
              "                }\n",
              "            &lt;/style&gt;\n",
              "        \n",
              "&lt;/head&gt;\n",
              "&lt;body&gt;    \n",
              "    \n",
              "            &lt;div class=&quot;folium-map&quot; id=&quot;map_ec1cb1da062264b7348047e2eb292a3e&quot; &gt;&lt;/div&gt;\n",
              "        \n",
              "&lt;/body&gt;\n",
              "&lt;script&gt;    \n",
              "    \n",
              "            var map_ec1cb1da062264b7348047e2eb292a3e = L.map(\n",
              "                &quot;map_ec1cb1da062264b7348047e2eb292a3e&quot;,\n",
              "                {\n",
              "                    center: [22.6273, 120.3014],\n",
              "                    crs: L.CRS.EPSG3857,\n",
              "                    zoom: 16,\n",
              "                    zoomControl: true,\n",
              "                    preferCanvas: false,\n",
              "                }\n",
              "            );\n",
              "\n",
              "            \n",
              "\n",
              "        \n",
              "    \n",
              "            var tile_layer_3c26d6ccd0e37e2fbcbaf48a73391f93 = L.tileLayer(\n",
              "                &quot;https://{s}.tile.openstreetmap.org/{z}/{x}/{y}.png&quot;,\n",
              "                {&quot;attribution&quot;: &quot;Data by \\u0026copy; \\u003ca href=\\&quot;http://openstreetmap.org\\&quot;\\u003eOpenStreetMap\\u003c/a\\u003e, under \\u003ca href=\\&quot;http://www.openstreetmap.org/copyright\\&quot;\\u003eODbL\\u003c/a\\u003e.&quot;, &quot;detectRetina&quot;: false, &quot;maxNativeZoom&quot;: 18, &quot;maxZoom&quot;: 18, &quot;minZoom&quot;: 0, &quot;noWrap&quot;: false, &quot;opacity&quot;: 1, &quot;subdomains&quot;: &quot;abc&quot;, &quot;tms&quot;: false}\n",
              "            ).addTo(map_ec1cb1da062264b7348047e2eb292a3e);\n",
              "        \n",
              "    \n",
              "            var marker_38a0533271e3b38bd6b1c09133b01736 = L.marker(\n",
              "                [22.6273, 120.3014],\n",
              "                {}\n",
              "            ).addTo(map_ec1cb1da062264b7348047e2eb292a3e);\n",
              "        \n",
              "    \n",
              "            var icon_d4cab532cb7d31c8b8a4c5540e2b93d9 = L.AwesomeMarkers.icon(\n",
              "                {&quot;extraClasses&quot;: &quot;fa-rotate-0&quot;, &quot;icon&quot;: &quot;info-sign&quot;, &quot;iconColor&quot;: &quot;white&quot;, &quot;markerColor&quot;: &quot;red&quot;, &quot;prefix&quot;: &quot;glyphicon&quot;}\n",
              "            );\n",
              "            marker_38a0533271e3b38bd6b1c09133b01736.setIcon(icon_d4cab532cb7d31c8b8a4c5540e2b93d9);\n",
              "        \n",
              "    \n",
              "        var popup_ffbabe1590d966b92fa2d35f2ea4bf29 = L.popup({&quot;maxWidth&quot;: &quot;100%&quot;});\n",
              "\n",
              "        \n",
              "            var html_b72f3f563e07c82dd77ff3cb6abe83a0 = $(`&lt;div id=&quot;html_b72f3f563e07c82dd77ff3cb6abe83a0&quot; style=&quot;width: 100.0%; height: 100.0%;&quot;&gt;高雄市&lt;/div&gt;`)[0];\n",
              "            popup_ffbabe1590d966b92fa2d35f2ea4bf29.setContent(html_b72f3f563e07c82dd77ff3cb6abe83a0);\n",
              "        \n",
              "\n",
              "        marker_38a0533271e3b38bd6b1c09133b01736.bindPopup(popup_ffbabe1590d966b92fa2d35f2ea4bf29)\n",
              "        ;\n",
              "\n",
              "        \n",
              "    \n",
              "&lt;/script&gt;\" style=\"position:absolute;width:100%;height:100%;left:0;top:0;border:none !important;\" allowfullscreen webkitallowfullscreen mozallowfullscreen></iframe></div></div>"
            ]
          },
          "metadata": {},
          "execution_count": 113
        }
      ]
    },
    {
      "cell_type": "code",
      "source": [
        "!pip install geocoder"
      ],
      "metadata": {
        "id": "m5xDNvBRnsmk"
      },
      "execution_count": null,
      "outputs": []
    },
    {
      "cell_type": "code",
      "source": [],
      "metadata": {
        "id": "SQvbkFnCpttY"
      },
      "execution_count": null,
      "outputs": []
    },
    {
      "cell_type": "code",
      "source": [
        "import geocoder\n",
        "place=\"中華電信\"\n",
        "g = geocoder.osm(place).latlng\n",
        "m2 = folium.Map(location=g, zoom_start=16)\n",
        "# m2.save('高雄市.html')\n",
        "folium.Marker(g, popup=place, icon=folium.Icon(color=\"red\")).add_to(m2)\n",
        "m2"
      ],
      "metadata": {
        "colab": {
          "base_uri": "https://localhost:8080/",
          "height": 520
        },
        "id": "avy8xnRjmX_9",
        "outputId": "bdd848dc-5231-4185-8223-ade61be251eb"
      },
      "execution_count": 132,
      "outputs": [
        {
          "output_type": "execute_result",
          "data": {
            "text/plain": [
              "<folium.folium.Map at 0x7fa50ae5fd90>"
            ],
            "text/html": [
              "<div style=\"width:100%;\"><div style=\"position:relative;width:100%;height:0;padding-bottom:60%;\"><span style=\"color:#565656\">Make this Notebook Trusted to load map: File -> Trust Notebook</span><iframe srcdoc=\"&lt;!DOCTYPE html&gt;\n",
              "&lt;head&gt;    \n",
              "    &lt;meta http-equiv=&quot;content-type&quot; content=&quot;text/html; charset=UTF-8&quot; /&gt;\n",
              "    \n",
              "        &lt;script&gt;\n",
              "            L_NO_TOUCH = false;\n",
              "            L_DISABLE_3D = false;\n",
              "        &lt;/script&gt;\n",
              "    \n",
              "    &lt;style&gt;html, body {width: 100%;height: 100%;margin: 0;padding: 0;}&lt;/style&gt;\n",
              "    &lt;style&gt;#map {position:absolute;top:0;bottom:0;right:0;left:0;}&lt;/style&gt;\n",
              "    &lt;script src=&quot;https://cdn.jsdelivr.net/npm/leaflet@1.6.0/dist/leaflet.js&quot;&gt;&lt;/script&gt;\n",
              "    &lt;script src=&quot;https://code.jquery.com/jquery-1.12.4.min.js&quot;&gt;&lt;/script&gt;\n",
              "    &lt;script src=&quot;https://maxcdn.bootstrapcdn.com/bootstrap/3.2.0/js/bootstrap.min.js&quot;&gt;&lt;/script&gt;\n",
              "    &lt;script src=&quot;https://cdnjs.cloudflare.com/ajax/libs/Leaflet.awesome-markers/2.0.2/leaflet.awesome-markers.js&quot;&gt;&lt;/script&gt;\n",
              "    &lt;link rel=&quot;stylesheet&quot; href=&quot;https://cdn.jsdelivr.net/npm/leaflet@1.6.0/dist/leaflet.css&quot;/&gt;\n",
              "    &lt;link rel=&quot;stylesheet&quot; href=&quot;https://maxcdn.bootstrapcdn.com/bootstrap/3.2.0/css/bootstrap.min.css&quot;/&gt;\n",
              "    &lt;link rel=&quot;stylesheet&quot; href=&quot;https://maxcdn.bootstrapcdn.com/bootstrap/3.2.0/css/bootstrap-theme.min.css&quot;/&gt;\n",
              "    &lt;link rel=&quot;stylesheet&quot; href=&quot;https://maxcdn.bootstrapcdn.com/font-awesome/4.6.3/css/font-awesome.min.css&quot;/&gt;\n",
              "    &lt;link rel=&quot;stylesheet&quot; href=&quot;https://cdnjs.cloudflare.com/ajax/libs/Leaflet.awesome-markers/2.0.2/leaflet.awesome-markers.css&quot;/&gt;\n",
              "    &lt;link rel=&quot;stylesheet&quot; href=&quot;https://cdn.jsdelivr.net/gh/python-visualization/folium/folium/templates/leaflet.awesome.rotate.min.css&quot;/&gt;\n",
              "    \n",
              "            &lt;meta name=&quot;viewport&quot; content=&quot;width=device-width,\n",
              "                initial-scale=1.0, maximum-scale=1.0, user-scalable=no&quot; /&gt;\n",
              "            &lt;style&gt;\n",
              "                #map_812ddb6ea1ca2e6bf4014ae04d48e28a {\n",
              "                    position: relative;\n",
              "                    width: 100.0%;\n",
              "                    height: 100.0%;\n",
              "                    left: 0.0%;\n",
              "                    top: 0.0%;\n",
              "                }\n",
              "            &lt;/style&gt;\n",
              "        \n",
              "&lt;/head&gt;\n",
              "&lt;body&gt;    \n",
              "    \n",
              "            &lt;div class=&quot;folium-map&quot; id=&quot;map_812ddb6ea1ca2e6bf4014ae04d48e28a&quot; &gt;&lt;/div&gt;\n",
              "        \n",
              "&lt;/body&gt;\n",
              "&lt;script&gt;    \n",
              "    \n",
              "            var map_812ddb6ea1ca2e6bf4014ae04d48e28a = L.map(\n",
              "                &quot;map_812ddb6ea1ca2e6bf4014ae04d48e28a&quot;,\n",
              "                {\n",
              "                    center: [25.03709025, 121.52387451379914],\n",
              "                    crs: L.CRS.EPSG3857,\n",
              "                    zoom: 16,\n",
              "                    zoomControl: true,\n",
              "                    preferCanvas: false,\n",
              "                }\n",
              "            );\n",
              "\n",
              "            \n",
              "\n",
              "        \n",
              "    \n",
              "            var tile_layer_44a5a814612445e5f70e2f2447477350 = L.tileLayer(\n",
              "                &quot;https://{s}.tile.openstreetmap.org/{z}/{x}/{y}.png&quot;,\n",
              "                {&quot;attribution&quot;: &quot;Data by \\u0026copy; \\u003ca href=\\&quot;http://openstreetmap.org\\&quot;\\u003eOpenStreetMap\\u003c/a\\u003e, under \\u003ca href=\\&quot;http://www.openstreetmap.org/copyright\\&quot;\\u003eODbL\\u003c/a\\u003e.&quot;, &quot;detectRetina&quot;: false, &quot;maxNativeZoom&quot;: 18, &quot;maxZoom&quot;: 18, &quot;minZoom&quot;: 0, &quot;noWrap&quot;: false, &quot;opacity&quot;: 1, &quot;subdomains&quot;: &quot;abc&quot;, &quot;tms&quot;: false}\n",
              "            ).addTo(map_812ddb6ea1ca2e6bf4014ae04d48e28a);\n",
              "        \n",
              "    \n",
              "            var marker_150bda9f29aa1f38aeb5ec0e1ef240cf = L.marker(\n",
              "                [25.03709025, 121.52387451379914],\n",
              "                {}\n",
              "            ).addTo(map_812ddb6ea1ca2e6bf4014ae04d48e28a);\n",
              "        \n",
              "    \n",
              "            var icon_a3343adab2e04f2f98217faa942ddbf7 = L.AwesomeMarkers.icon(\n",
              "                {&quot;extraClasses&quot;: &quot;fa-rotate-0&quot;, &quot;icon&quot;: &quot;info-sign&quot;, &quot;iconColor&quot;: &quot;white&quot;, &quot;markerColor&quot;: &quot;red&quot;, &quot;prefix&quot;: &quot;glyphicon&quot;}\n",
              "            );\n",
              "            marker_150bda9f29aa1f38aeb5ec0e1ef240cf.setIcon(icon_a3343adab2e04f2f98217faa942ddbf7);\n",
              "        \n",
              "    \n",
              "        var popup_a5587a45f01adafb5cd341eef9243136 = L.popup({&quot;maxWidth&quot;: &quot;100%&quot;});\n",
              "\n",
              "        \n",
              "            var html_4ee66b740ce490823ee2bbdd6fa65d22 = $(`&lt;div id=&quot;html_4ee66b740ce490823ee2bbdd6fa65d22&quot; style=&quot;width: 100.0%; height: 100.0%;&quot;&gt;中華電信&lt;/div&gt;`)[0];\n",
              "            popup_a5587a45f01adafb5cd341eef9243136.setContent(html_4ee66b740ce490823ee2bbdd6fa65d22);\n",
              "        \n",
              "\n",
              "        marker_150bda9f29aa1f38aeb5ec0e1ef240cf.bindPopup(popup_a5587a45f01adafb5cd341eef9243136)\n",
              "        ;\n",
              "\n",
              "        \n",
              "    \n",
              "&lt;/script&gt;\" style=\"position:absolute;width:100%;height:100%;left:0;top:0;border:none !important;\" allowfullscreen webkitallowfullscreen mozallowfullscreen></iframe></div></div>"
            ]
          },
          "metadata": {},
          "execution_count": 132
        }
      ]
    },
    {
      "cell_type": "markdown",
      "source": [
        "## 網頁爬蟲\n",
        "* Crawling, requests selenium\n",
        "* Parsing, BeautifulSoup\n",
        "* [requests](https://requests.readthedocs.io/en/latest/)"
      ],
      "metadata": {
        "id": "xnH1M-0zra8D"
      }
    },
    {
      "cell_type": "markdown",
      "source": [
        "### 抓取網頁原始碼"
      ],
      "metadata": {
        "id": "cv0yvjZazkgs"
      }
    },
    {
      "cell_type": "code",
      "source": [
        "import requests"
      ],
      "metadata": {
        "id": "SA6EkU-gwzTm"
      },
      "execution_count": 133,
      "outputs": []
    },
    {
      "cell_type": "code",
      "source": [
        "r = requests.get(\"https://victorgau.github.io/khpy_web_intro/html_only.html\")\n",
        "r.text"
      ],
      "metadata": {
        "colab": {
          "base_uri": "https://localhost:8080/",
          "height": 53
        },
        "id": "oJ7g8GqLw3Eb",
        "outputId": "2a5a3729-4fe8-449c-d77d-3465ae82d822"
      },
      "execution_count": 142,
      "outputs": [
        {
          "output_type": "execute_result",
          "data": {
            "text/plain": [
              "'<!DOCTYPE html>\\n<html>\\n<head>\\n    <title>HTML範例</title>\\n</head>\\n<body>\\n\\n<h1>哈囉！HTML！</h1>\\n\\n<img src=\"ninja.jpg\" />\\n\\n</body>\\n</html>'"
            ],
            "application/vnd.google.colaboratory.intrinsic+json": {
              "type": "string"
            }
          },
          "metadata": {},
          "execution_count": 142
        }
      ]
    },
    {
      "cell_type": "code",
      "source": [
        "with open(\"test.html\",\"w\") as f:\n",
        "  f.write(r.text)"
      ],
      "metadata": {
        "id": "2RbYHW-JxPAU"
      },
      "execution_count": 143,
      "outputs": []
    },
    {
      "cell_type": "markdown",
      "source": [
        "### 使用BeautifulSoup解析網頁原始碼"
      ],
      "metadata": {
        "id": "-qHjBFUszr01"
      }
    },
    {
      "cell_type": "code",
      "source": [
        "from bs4 import BeautifulSoup\n",
        "soup = BeautifulSoup(r.text)\n",
        "soup.h1.text"
      ],
      "metadata": {
        "colab": {
          "base_uri": "https://localhost:8080/",
          "height": 35
        },
        "id": "ldtjZ24Aywjj",
        "outputId": "d89fbc8e-2214-49f5-a6cb-6ae128c555eb"
      },
      "execution_count": 147,
      "outputs": [
        {
          "output_type": "execute_result",
          "data": {
            "text/plain": [
              "'哈囉！HTML！'"
            ],
            "application/vnd.google.colaboratory.intrinsic+json": {
              "type": "string"
            }
          },
          "metadata": {},
          "execution_count": 147
        }
      ]
    },
    {
      "cell_type": "markdown",
      "source": [
        "### 抓取圖片"
      ],
      "metadata": {
        "id": "EgAqFAAAz8v7"
      }
    },
    {
      "cell_type": "code",
      "source": [
        "url = \"https://uc.udn.com.tw/photo/2021/08/29/realtime/13631597.jpeg\"\n",
        "filename = url.split('/')[-1]\n",
        "r = requests.get(url)\n",
        "with open(filename,\"wb\") as f:\n",
        "  f.write(r.content)"
      ],
      "metadata": {
        "id": "t1oQmw4Uz_Ou"
      },
      "execution_count": 149,
      "outputs": []
    },
    {
      "cell_type": "markdown",
      "source": [
        "### 抓PDF\n",
        "* requests fake user agent"
      ],
      "metadata": {
        "id": "af8xYqU92nEe"
      }
    },
    {
      "cell_type": "code",
      "source": [
        "url = \"https://arxiv.org/pdf/2208.12801.pdf\"\n",
        "filename = url.split(\"/\")[-1]\n",
        "headers = {'User-Agent': 'Mozilla/5.0 (Macintosh; Intel Mac OS X 10_10_1) AppleWebKit/537.36 (KHTML, like Gecko) Chrome/39.0.2171.95 Safari/537.36'}\n",
        "r = requests.get(url, headers=headers)\n",
        "with open(filename, \"wb\") as f:\n",
        "  f.write(r.content)"
      ],
      "metadata": {
        "id": "JsW_IVeT2oQa"
      },
      "execution_count": 155,
      "outputs": []
    },
    {
      "cell_type": "markdown",
      "source": [
        "### arxiv install"
      ],
      "metadata": {
        "id": "9knZ1d2M4vFA"
      }
    },
    {
      "cell_type": "code",
      "source": [
        "!pip install arxiv"
      ],
      "metadata": {
        "colab": {
          "base_uri": "https://localhost:8080/"
        },
        "id": "pmvz2rey4xys",
        "outputId": "4a707bfb-ec0e-4ef0-e60f-22aa148f1bca"
      },
      "execution_count": 156,
      "outputs": [
        {
          "output_type": "stream",
          "name": "stdout",
          "text": [
            "Looking in indexes: https://pypi.org/simple, https://us-python.pkg.dev/colab-wheels/public/simple/\n",
            "Collecting arxiv\n",
            "  Downloading arxiv-1.4.2-py3-none-any.whl (11 kB)\n",
            "Collecting feedparser\n",
            "  Downloading feedparser-6.0.10-py3-none-any.whl (81 kB)\n",
            "\u001b[K     |████████████████████████████████| 81 kB 6.2 MB/s \n",
            "\u001b[?25hCollecting sgmllib3k\n",
            "  Downloading sgmllib3k-1.0.0.tar.gz (5.8 kB)\n",
            "Building wheels for collected packages: sgmllib3k\n",
            "  Building wheel for sgmllib3k (setup.py) ... \u001b[?25l\u001b[?25hdone\n",
            "  Created wheel for sgmllib3k: filename=sgmllib3k-1.0.0-py3-none-any.whl size=6066 sha256=c3342235ded655ddf6a670c52403d7c6af3fc21309fa3ba3fec6a2a1a4c4b655\n",
            "  Stored in directory: /root/.cache/pip/wheels/73/ad/a4/0dff4a6ef231fc0dfa12ffbac2a36cebfdddfe059f50e019aa\n",
            "Successfully built sgmllib3k\n",
            "Installing collected packages: sgmllib3k, feedparser, arxiv\n",
            "Successfully installed arxiv-1.4.2 feedparser-6.0.10 sgmllib3k-1.0.0\n"
          ]
        }
      ]
    },
    {
      "cell_type": "code",
      "source": [
        "import arxiv\n",
        "search = arxiv.Search(\n",
        "  query = \"deep learning\",\n",
        "  max_results = 1,\n",
        "  sort_by = arxiv.SortCriterion.SubmittedDate\n",
        ")\n",
        "search"
      ],
      "metadata": {
        "colab": {
          "base_uri": "https://localhost:8080/"
        },
        "id": "hql0dhai43zk",
        "outputId": "5f273afb-4975-4526-f78d-28b30e5aaef8"
      },
      "execution_count": 158,
      "outputs": [
        {
          "output_type": "execute_result",
          "data": {
            "text/plain": [
              "arxiv.Search(query='deep learning', id_list=[], max_results=1, sort_by=<SortCriterion.SubmittedDate: 'submittedDate'>, sort_order=<SortOrder.Descending: 'descending'>)"
            ]
          },
          "metadata": {},
          "execution_count": 158
        }
      ]
    },
    {
      "cell_type": "markdown",
      "source": [
        "### 條件式 if statements\n",
        "\n",
        "``` python\n",
        "if condition:\n",
        "  code block\n",
        "elif condition2:\n",
        "  code block 2\n",
        "else:\n",
        "  others\n",
        "``` \n",
        "\n"
      ],
      "metadata": {
        "id": "oAqGFKhfdZ8U"
      }
    },
    {
      "cell_type": "code",
      "source": [
        "a = 3\n",
        "b = 2\n",
        "if a > b:\n",
        "  print (\"a>b\")\n",
        "elif a < b:\n",
        "  print(\"a<b\")\n",
        "else:\n",
        "  print(\"a=b\")"
      ],
      "metadata": {
        "colab": {
          "base_uri": "https://localhost:8080/"
        },
        "id": "_wYY7mD4ewpP",
        "outputId": "6bdd29bc-f93c-4bae-ec91-9c495581fe7c"
      },
      "execution_count": 1,
      "outputs": [
        {
          "output_type": "stream",
          "name": "stdout",
          "text": [
            "a>b\n"
          ]
        }
      ]
    },
    {
      "cell_type": "markdown",
      "source": [
        "### 計算BMI並判斷體位, 數學式表示法latex equition\n",
        "BMI算法：\n",
        "$bmi = \\frac{體重(公斤)}{身高(公尺)^2}$\n",
        "$$bmi = \\frac{體重(公斤)}{身高(公尺)^2}$$\n",
        "\n",
        "|bmi|說明|\n",
        "|:--|:--|\n",
        "|<18.5|體重過輕|\n",
        "|18.5 <= bmi < 24|健康體位|\n",
        "|bmi >= 24|體重過重|\n"
      ],
      "metadata": {
        "id": "kGuY5mOafCqg"
      }
    },
    {
      "cell_type": "code",
      "source": [
        "w = 67.7\n",
        "h = 1.672\n",
        "bmi = w/h**2\n",
        "if bmi <18.5:\n",
        "  print(\"體重過輕\")\n",
        "elif bmi > 24:\n",
        "  print(\"體重過重\")\n",
        "else:\n",
        "  print(\"健康體位\")\n"
      ],
      "metadata": {
        "colab": {
          "base_uri": "https://localhost:8080/"
        },
        "id": "iWf0YprugopY",
        "outputId": "74d0cb92-37ca-4c6f-c966-c43f46315a2d"
      },
      "execution_count": 21,
      "outputs": [
        {
          "output_type": "stream",
          "name": "stdout",
          "text": [
            "體重過重\n"
          ]
        }
      ]
    },
    {
      "cell_type": "markdown",
      "source": [
        "### 迴圈\n",
        "* for loops\n",
        "* while loops\n",
        "\n",
        "``` python\n",
        "for var in struct:\n",
        "  code block\n",
        "```"
      ],
      "metadata": {
        "id": "msQrU0UakJQG"
      }
    },
    {
      "cell_type": "code",
      "source": [
        "for i in range(3):\n",
        "  print(\"block start:\")\n",
        "  print(i)\n",
        "  print(\"block end:\")"
      ],
      "metadata": {
        "colab": {
          "base_uri": "https://localhost:8080/"
        },
        "id": "4KH9fmIMfAIN",
        "outputId": "a66f50d5-3476-40fb-c2b5-95569870b757"
      },
      "execution_count": 25,
      "outputs": [
        {
          "output_type": "stream",
          "name": "stdout",
          "text": [
            "block start:\n",
            "0\n",
            "block end:\n",
            "block start:\n",
            "1\n",
            "block end:\n",
            "block start:\n",
            "2\n",
            "block end:\n"
          ]
        }
      ]
    },
    {
      "cell_type": "code",
      "source": [
        "for i in range(3):\n",
        "  print(\"block start:\")\n",
        "  print(i)\n",
        "print(\"block end:\")"
      ],
      "metadata": {
        "colab": {
          "base_uri": "https://localhost:8080/"
        },
        "id": "ulymgG44lUJq",
        "outputId": "842d37b5-3132-4826-e159-2467b2273aaf"
      },
      "execution_count": 26,
      "outputs": [
        {
          "output_type": "stream",
          "name": "stdout",
          "text": [
            "block start:\n",
            "0\n",
            "block start:\n",
            "1\n",
            "block start:\n",
            "2\n",
            "block end:\n"
          ]
        }
      ]
    },
    {
      "cell_type": "code",
      "source": [
        "x = list('abcde')\n",
        "print(x)\n",
        "for i in x:\n",
        "  print(i)"
      ],
      "metadata": {
        "colab": {
          "base_uri": "https://localhost:8080/"
        },
        "id": "kU3WwbFHlulI",
        "outputId": "2899f4df-4c89-41ca-ae48-d34cbf5b08e8"
      },
      "execution_count": 29,
      "outputs": [
        {
          "output_type": "stream",
          "name": "stdout",
          "text": [
            "['a', 'b', 'c', 'd', 'e']\n",
            "a\n",
            "b\n",
            "c\n",
            "d\n",
            "e\n"
          ]
        }
      ]
    },
    {
      "cell_type": "code",
      "source": [
        "fruits={'apple':20, 'orange':10, 'banana':20}\n",
        "for i in fruits:\n",
        "  print(\"default i=\" + i)\n",
        "  print(\"value=\" + str(fruits[i]))\n",
        "print(\"------\")\n",
        "for i in fruits.values():\n",
        "  print(i)\n",
        "print(\"------\")\n",
        "for i in fruits.keys():\n",
        "  print(i)"
      ],
      "metadata": {
        "colab": {
          "base_uri": "https://localhost:8080/"
        },
        "id": "p7Lls3bYmJIj",
        "outputId": "1a2f2a0c-2709-4734-db7b-972a0f6e8c5d"
      },
      "execution_count": 41,
      "outputs": [
        {
          "output_type": "stream",
          "name": "stdout",
          "text": [
            "default i=apple\n",
            "value=20\n",
            "default i=orange\n",
            "value=10\n",
            "default i=banana\n",
            "value=20\n",
            "------\n",
            "20\n",
            "10\n",
            "20\n",
            "------\n",
            "apple\n",
            "orange\n",
            "banana\n"
          ]
        }
      ]
    },
    {
      "cell_type": "markdown",
      "source": [
        "### json 格式"
      ],
      "metadata": {
        "id": "3AbKS24Lqf7G"
      }
    },
    {
      "cell_type": "code",
      "source": [
        "# 多行字串\n",
        "s = \"\"\"{\n",
        "     \"firstName\": \"John\",\n",
        "     \"lastName\": \"Smith\",\n",
        "     \"sex\": \"male\",\n",
        "     \"age\": 25,\n",
        "     \"address\": \n",
        "     {\n",
        "         \"streetAddress\": \"21 2nd Street\",\n",
        "         \"city\": \"New York\",\n",
        "         \"state\": \"NY\",\n",
        "         \"postalCode\": \"10021\"\n",
        "     },\n",
        "     \"phoneNumber\": \n",
        "     [\n",
        "         {\n",
        "           \"type\": \"home\",\n",
        "           \"number\": \"212 555-1234\"\n",
        "         },\n",
        "         {\n",
        "           \"type\": \"fax\",\n",
        "           \"number\": \"646 555-4567\"\n",
        "         }\n",
        "     ]\n",
        " }\"\"\""
      ],
      "metadata": {
        "id": "aBF_sIGindp6"
      },
      "execution_count": 42,
      "outputs": []
    },
    {
      "cell_type": "code",
      "source": [
        "type(s)"
      ],
      "metadata": {
        "colab": {
          "base_uri": "https://localhost:8080/"
        },
        "id": "GV0gUKmKpDE0",
        "outputId": "f4370614-f017-410a-bcc9-8af08b1c6125"
      },
      "execution_count": 43,
      "outputs": [
        {
          "output_type": "execute_result",
          "data": {
            "text/plain": [
              "str"
            ]
          },
          "metadata": {},
          "execution_count": 43
        }
      ]
    },
    {
      "cell_type": "code",
      "source": [
        "import json\n",
        "data = json.loads(s)"
      ],
      "metadata": {
        "id": "xQNxI2UvpIvS"
      },
      "execution_count": 47,
      "outputs": []
    },
    {
      "cell_type": "code",
      "source": [
        "data[\"phoneNumber\"][-1][\"number\"]"
      ],
      "metadata": {
        "colab": {
          "base_uri": "https://localhost:8080/",
          "height": 35
        },
        "id": "g1mPoyxqpSbs",
        "outputId": "5494c397-2825-4069-d9c6-5fc807738c3d"
      },
      "execution_count": 60,
      "outputs": [
        {
          "output_type": "execute_result",
          "data": {
            "text/plain": [
              "'646 555-4567'"
            ],
            "application/vnd.google.colaboratory.intrinsic+json": {
              "type": "string"
            }
          },
          "metadata": {},
          "execution_count": 60
        }
      ]
    },
    {
      "cell_type": "markdown",
      "source": [
        "### 抓取台北市Younike 2.0 站點資料\n",
        "https://tcgbusfs.blob.core.windows.net/dotapp/youbike/v2/youbike_immediate.json"
      ],
      "metadata": {
        "id": "uifiNWSlqlmG"
      }
    },
    {
      "cell_type": "code",
      "source": [
        "import requests\n",
        "url = \"https://tcgbusfs.blob.core.windows.net/dotapp/youbike/v2/youbike_immediate.json\"\n",
        "rs = requests.get(url).json()\n",
        "type(rs)\n",
        "print (rs[0])\n",
        "for i in rs:\n",
        "  print(\"站名:\" + i[\"sna\"].split(\"_\")[1])\n",
        "  print(\"經緯度:\" + str(i[\"lat\"]) + \",\" + str(i[\"lng\"]))"
      ],
      "metadata": {
        "id": "fwZHqo5DqI0-"
      },
      "execution_count": null,
      "outputs": []
    },
    {
      "cell_type": "markdown",
      "source": [
        "### string formating"
      ],
      "metadata": {
        "id": "rfWl5CEpsDqK"
      }
    },
    {
      "cell_type": "code",
      "source": [
        "a = 1\n",
        "b = 3.14159\n",
        "c = True\n",
        "d = 'dog'"
      ],
      "metadata": {
        "id": "fZeF93EIsILn"
      },
      "execution_count": 73,
      "outputs": []
    },
    {
      "cell_type": "code",
      "source": [
        "\"{} {} {} {}\".format(a,b,c,d)"
      ],
      "metadata": {
        "colab": {
          "base_uri": "https://localhost:8080/",
          "height": 35
        },
        "id": "mxuIfBH3sOx4",
        "outputId": "1d20ea7e-bc62-48ae-b74a-cd09312198c7"
      },
      "execution_count": 74,
      "outputs": [
        {
          "output_type": "execute_result",
          "data": {
            "text/plain": [
              "'1 3.14159 True dog'"
            ],
            "application/vnd.google.colaboratory.intrinsic+json": {
              "type": "string"
            }
          },
          "metadata": {},
          "execution_count": 74
        }
      ]
    },
    {
      "cell_type": "code",
      "source": [
        "\"a={} b={} c={} d={}\".format(a,b,c,d)"
      ],
      "metadata": {
        "colab": {
          "base_uri": "https://localhost:8080/",
          "height": 35
        },
        "id": "4BS5riF7sd6v",
        "outputId": "cc87bcab-c641-49c0-d861-bd4d09f360ef"
      },
      "execution_count": 75,
      "outputs": [
        {
          "output_type": "execute_result",
          "data": {
            "text/plain": [
              "'a=1 b=3.14159 c=True d=dog'"
            ],
            "application/vnd.google.colaboratory.intrinsic+json": {
              "type": "string"
            }
          },
          "metadata": {},
          "execution_count": 75
        }
      ]
    },
    {
      "cell_type": "code",
      "source": [
        "\"{0} {3} {2} {1}\".format(a,b,c,d)"
      ],
      "metadata": {
        "colab": {
          "base_uri": "https://localhost:8080/",
          "height": 35
        },
        "id": "ELX48ITfsqPi",
        "outputId": "0e92e648-ddfb-41e7-f170-fb483c3139d0"
      },
      "execution_count": 76,
      "outputs": [
        {
          "output_type": "execute_result",
          "data": {
            "text/plain": [
              "'1 dog True 3.14159'"
            ],
            "application/vnd.google.colaboratory.intrinsic+json": {
              "type": "string"
            }
          },
          "metadata": {},
          "execution_count": 76
        }
      ]
    },
    {
      "cell_type": "markdown",
      "source": [
        "### f-string"
      ],
      "metadata": {
        "id": "5AwhvQ3Vs4tf"
      }
    },
    {
      "cell_type": "code",
      "source": [
        "f\"{a} {b} {c} {d}\""
      ],
      "metadata": {
        "colab": {
          "base_uri": "https://localhost:8080/",
          "height": 35
        },
        "id": "SRk4S0zAswbV",
        "outputId": "cff3fea3-ff1c-43a6-f31c-c0a2bd18a4a8"
      },
      "execution_count": 77,
      "outputs": [
        {
          "output_type": "execute_result",
          "data": {
            "text/plain": [
              "'1 3.14159 True dog'"
            ],
            "application/vnd.google.colaboratory.intrinsic+json": {
              "type": "string"
            }
          },
          "metadata": {},
          "execution_count": 77
        }
      ]
    },
    {
      "cell_type": "code",
      "source": [
        "for i in rs:\n",
        "  # s = f\"站點名稱: {i['sna']} , GPS({i['lat']},{i['lng']})\"\n",
        "  print(f\"站點名稱: {i['sna'].split('_')[-1]} , GPS({i['lat']},{i['lng']})\")\n",
        "  # print(f\"站點名稱: {i}\")"
      ],
      "metadata": {
        "id": "7LUCkpYCtAa8"
      },
      "execution_count": null,
      "outputs": []
    },
    {
      "cell_type": "markdown",
      "source": [
        "### 將Youbike2.0站點會至於地圖上\n"
      ],
      "metadata": {
        "id": "zMIQcdglw8-i"
      }
    },
    {
      "cell_type": "code",
      "source": [
        "!pip install geocoder"
      ],
      "metadata": {
        "colab": {
          "base_uri": "https://localhost:8080/"
        },
        "id": "_5QWIf1VxTAS",
        "outputId": "6d4c7f79-48f8-4435-dd81-736ed1c5b946"
      },
      "execution_count": 86,
      "outputs": [
        {
          "output_type": "stream",
          "name": "stdout",
          "text": [
            "Looking in indexes: https://pypi.org/simple, https://us-python.pkg.dev/colab-wheels/public/simple/\n",
            "Collecting geocoder\n",
            "  Downloading geocoder-1.38.1-py2.py3-none-any.whl (98 kB)\n",
            "\u001b[K     |████████████████████████████████| 98 kB 2.9 MB/s \n",
            "\u001b[?25hRequirement already satisfied: click in /usr/local/lib/python3.7/dist-packages (from geocoder) (7.1.2)\n",
            "Requirement already satisfied: future in /usr/local/lib/python3.7/dist-packages (from geocoder) (0.16.0)\n",
            "Requirement already satisfied: six in /usr/local/lib/python3.7/dist-packages (from geocoder) (1.15.0)\n",
            "Collecting ratelim\n",
            "  Downloading ratelim-0.1.6-py2.py3-none-any.whl (4.0 kB)\n",
            "Requirement already satisfied: requests in /usr/local/lib/python3.7/dist-packages (from geocoder) (2.23.0)\n",
            "Requirement already satisfied: decorator in /usr/local/lib/python3.7/dist-packages (from ratelim->geocoder) (4.4.2)\n",
            "Requirement already satisfied: certifi>=2017.4.17 in /usr/local/lib/python3.7/dist-packages (from requests->geocoder) (2022.6.15)\n",
            "Requirement already satisfied: chardet<4,>=3.0.2 in /usr/local/lib/python3.7/dist-packages (from requests->geocoder) (3.0.4)\n",
            "Requirement already satisfied: urllib3!=1.25.0,!=1.25.1,<1.26,>=1.21.1 in /usr/local/lib/python3.7/dist-packages (from requests->geocoder) (1.24.3)\n",
            "Requirement already satisfied: idna<3,>=2.5 in /usr/local/lib/python3.7/dist-packages (from requests->geocoder) (2.10)\n",
            "Installing collected packages: ratelim, geocoder\n",
            "Successfully installed geocoder-1.38.1 ratelim-0.1.6\n"
          ]
        }
      ]
    },
    {
      "cell_type": "code",
      "source": [
        "import geocoder\n",
        "import folium\n",
        "city=\"台北市\"\n",
        "loc = geocoder.osm(city).latlng\n",
        "map = folium.Map(loc, zoom_start=16)\n",
        "\n",
        "for i in rs:\n",
        "  folium.Marker((i['lat'], i['lng']), popup=i['sna'].split('_')[-1]).add_to(map)\n",
        "map"
      ],
      "metadata": {
        "id": "oHPB7yA1xCWj"
      },
      "execution_count": null,
      "outputs": []
    },
    {
      "cell_type": "markdown",
      "source": [
        "### 劃金字塔"
      ],
      "metadata": {
        "id": "bIGURlSC03Fp"
      }
    },
    {
      "cell_type": "code",
      "source": [
        "for i in range(5):\n",
        "  print((5-i )*' '+ (2*i+1)*'*')"
      ],
      "metadata": {
        "colab": {
          "base_uri": "https://localhost:8080/"
        },
        "id": "stNk6WgU055F",
        "outputId": "63316146-2f87-4f85-d39f-6f354dc3e6ea"
      },
      "execution_count": 97,
      "outputs": [
        {
          "output_type": "stream",
          "name": "stdout",
          "text": [
            "     *\n",
            "    ***\n",
            "   *****\n",
            "  *******\n",
            " *********\n"
          ]
        }
      ]
    },
    {
      "cell_type": "markdown",
      "source": [
        "### 函式"
      ],
      "metadata": {
        "id": "ONr0VyTt3UfU"
      }
    },
    {
      "cell_type": "code",
      "source": [
        "def pyramid(size):\n",
        "  for i in range(size):\n",
        "    print((size-i )*' '+ (2*i+1)*'*')\n",
        "pyramid(10)"
      ],
      "metadata": {
        "colab": {
          "base_uri": "https://localhost:8080/"
        },
        "id": "CPVA48bs3Wzh",
        "outputId": "f5974dd6-5f95-4826-b2ef-4a26b57544fc"
      },
      "execution_count": 101,
      "outputs": [
        {
          "output_type": "stream",
          "name": "stdout",
          "text": [
            "          *\n",
            "         ***\n",
            "        *****\n",
            "       *******\n",
            "      *********\n",
            "     ***********\n",
            "    *************\n",
            "   ***************\n",
            "  *****************\n",
            " *******************\n"
          ]
        }
      ]
    },
    {
      "cell_type": "markdown",
      "source": [
        "### while\n",
        "\n",
        "``` python\n",
        "while condition:\n",
        "  code block\n",
        "```"
      ],
      "metadata": {
        "id": "TRuIuz0a32vZ"
      }
    },
    {
      "cell_type": "code",
      "source": [
        "c = 10\n",
        "while c > 0:\n",
        "  print(c)\n",
        "  c = c-1"
      ],
      "metadata": {
        "id": "k8uV4YeQ39yt"
      },
      "execution_count": null,
      "outputs": []
    },
    {
      "cell_type": "markdown",
      "source": [
        "### break, continue"
      ],
      "metadata": {
        "id": "TQzMV9tW4T3l"
      }
    },
    {
      "cell_type": "code",
      "source": [
        "for i in range(10):\n",
        "  if i == 5:\n",
        "    break\n",
        "  print(i)"
      ],
      "metadata": {
        "id": "NlQ87Tpw4Xwr"
      },
      "execution_count": null,
      "outputs": []
    },
    {
      "cell_type": "markdown",
      "source": [
        "### function return"
      ],
      "metadata": {
        "id": "G7LpVmCu551d"
      }
    },
    {
      "cell_type": "code",
      "source": [
        "def square1(x):\n",
        "  print(2**x)\n",
        "def square2(x):\n",
        "  return 2**x\n",
        "def square3(x):\n",
        "  return None\n",
        "print(square1(3))"
      ],
      "metadata": {
        "colab": {
          "base_uri": "https://localhost:8080/"
        },
        "id": "GE4KmBMZ58oH",
        "outputId": "1f9e8dfe-8ecc-4c68-a919-7391a2580591"
      },
      "execution_count": 112,
      "outputs": [
        {
          "output_type": "stream",
          "name": "stdout",
          "text": [
            "8\n",
            "None\n"
          ]
        }
      ]
    },
    {
      "cell_type": "markdown",
      "source": [
        "### Exception handle\n",
        "```python\n",
        "try:\n",
        "  程式區塊\n",
        "except Exception as e:\n",
        "  例外處理區塊\n",
        "```"
      ],
      "metadata": {
        "id": "x9z0ZTnURAnl"
      }
    },
    {
      "cell_type": "code",
      "source": [
        "def add(a, b):\n",
        "  print(f\"{a} + {b} = {a+b}\")\n",
        "\n",
        "def sub(a, b):\n",
        "  print(f\"{a} - {b} = {a-b}\")\n",
        "\n",
        "def mul(a, b):\n",
        "  print(f\"{a} x {b} = {a*b}\")\n",
        "\n",
        "def div(a, b):\n",
        "  print(f\"{a} / {b} = {a/b}\")\n"
      ],
      "metadata": {
        "id": "PwBu5fkGRFHN"
      },
      "execution_count": 113,
      "outputs": []
    },
    {
      "cell_type": "code",
      "source": [
        "fns = [add, div, sub, mul]"
      ],
      "metadata": {
        "id": "mL4bPK-kRres"
      },
      "execution_count": 114,
      "outputs": []
    },
    {
      "cell_type": "code",
      "source": [
        "a = 1\n",
        "b = 0\n",
        "for fn in fns:\n",
        "  fn(a,b)"
      ],
      "metadata": {
        "id": "Wo2TtqfKRvwf"
      },
      "execution_count": null,
      "outputs": []
    },
    {
      "cell_type": "code",
      "source": [
        "a = 1\n",
        "b = 0\n",
        "for fn in fns:\n",
        "  try:\n",
        "    fn(a,b)\n",
        "  except Exception as e:\n",
        "    print(e.args)"
      ],
      "metadata": {
        "colab": {
          "base_uri": "https://localhost:8080/"
        },
        "id": "nfPhFRXJSJdD",
        "outputId": "ce52c0fe-b13f-4430-b3e4-81b4cd8331ba"
      },
      "execution_count": 117,
      "outputs": [
        {
          "output_type": "stream",
          "name": "stdout",
          "text": [
            "1 + 0 = 1\n",
            "('division by zero',)\n",
            "1 - 0 = 1\n",
            "1 x 0 = 0\n"
          ]
        }
      ]
    },
    {
      "cell_type": "markdown",
      "source": [
        "## 資料分析簡介\n",
        "* Numpy => Numerical Python => 科學運算套件\n",
        "* MatPlotLib => Matrix Plotting Library => 繪圖套件\n",
        "* Pandas => Panel Data => 資料分析基礎套件"
      ],
      "metadata": {
        "id": "bMQrI0cES4RY"
      }
    },
    {
      "cell_type": "markdown",
      "source": [
        "載入慣例：\n",
        "``` python\n",
        "import numpy as np\n",
        "import matplotlib.pyplot as plt\n",
        "import pandas as pd\n",
        "```"
      ],
      "metadata": {
        "id": "-XBTYYLuTM8d"
      }
    },
    {
      "cell_type": "markdown",
      "source": [
        "## Numpy\n",
        "* ndarray => N-Dimensional Array => 多維陣列\n",
        "* ufunc => Unversal Functions => 通用函式"
      ],
      "metadata": {
        "id": "MNeQzCE4TijY"
      }
    },
    {
      "cell_type": "markdown",
      "source": [
        "### ndarray"
      ],
      "metadata": {
        "id": "JrvaMheuVb2l"
      }
    },
    {
      "cell_type": "code",
      "source": [
        "import numpy as np"
      ],
      "metadata": {
        "id": "vGvxdemKT1XT"
      },
      "execution_count": 118,
      "outputs": []
    },
    {
      "cell_type": "code",
      "source": [
        "x = [1,2,3]\n",
        "y = [4,5,6]"
      ],
      "metadata": {
        "id": "oQYyGV55UnrC"
      },
      "execution_count": 119,
      "outputs": []
    },
    {
      "cell_type": "code",
      "source": [
        "x + y"
      ],
      "metadata": {
        "colab": {
          "base_uri": "https://localhost:8080/"
        },
        "id": "EO-__zPvUtrL",
        "outputId": "06ed9fd5-8d7a-4f64-e9f0-3ab09ec8db31"
      },
      "execution_count": 120,
      "outputs": [
        {
          "output_type": "execute_result",
          "data": {
            "text/plain": [
              "[1, 2, 3, 4, 5, 6]"
            ]
          },
          "metadata": {},
          "execution_count": 120
        }
      ]
    },
    {
      "cell_type": "code",
      "source": [
        "x *2"
      ],
      "metadata": {
        "colab": {
          "base_uri": "https://localhost:8080/"
        },
        "id": "EzXRSEwxU1yC",
        "outputId": "6cc6aa13-ce75-43b0-f974-fe2387979e4f"
      },
      "execution_count": 121,
      "outputs": [
        {
          "output_type": "execute_result",
          "data": {
            "text/plain": [
              "[1, 2, 3, 1, 2, 3]"
            ]
          },
          "metadata": {},
          "execution_count": 121
        }
      ]
    },
    {
      "cell_type": "code",
      "source": [
        "x1 = np.array(x)\n",
        "y1 = np.array(y)\n",
        "x1 + y1"
      ],
      "metadata": {
        "colab": {
          "base_uri": "https://localhost:8080/"
        },
        "id": "fBpg2Tc4U_po",
        "outputId": "84caadc4-b361-4b9c-e1f2-ddca46e3abd3"
      },
      "execution_count": 123,
      "outputs": [
        {
          "output_type": "execute_result",
          "data": {
            "text/plain": [
              "array([5, 7, 9])"
            ]
          },
          "metadata": {},
          "execution_count": 123
        }
      ]
    },
    {
      "cell_type": "code",
      "source": [
        "x1 * 2"
      ],
      "metadata": {
        "colab": {
          "base_uri": "https://localhost:8080/"
        },
        "id": "jJaHy2i4VOYZ",
        "outputId": "e5b691a8-4eaf-498e-f95b-8d00da9ffc35"
      },
      "execution_count": 124,
      "outputs": [
        {
          "output_type": "execute_result",
          "data": {
            "text/plain": [
              "array([2, 4, 6])"
            ]
          },
          "metadata": {},
          "execution_count": 124
        }
      ]
    },
    {
      "cell_type": "markdown",
      "source": [
        "### ufunc"
      ],
      "metadata": {
        "id": "sj8WsGvrVibS"
      }
    },
    {
      "cell_type": "code",
      "source": [
        "import math"
      ],
      "metadata": {
        "id": "pIC6p4ajVQXV"
      },
      "execution_count": 125,
      "outputs": []
    },
    {
      "cell_type": "code",
      "source": [
        "math.sin(math.pi/2)"
      ],
      "metadata": {
        "id": "BzIG1pORVvqE"
      },
      "execution_count": null,
      "outputs": []
    },
    {
      "cell_type": "code",
      "source": [
        "math.sin(x)"
      ],
      "metadata": {
        "id": "UkRMaoSsV38i"
      },
      "execution_count": null,
      "outputs": []
    },
    {
      "cell_type": "code",
      "source": [
        "np.sin(np.pi/2)"
      ],
      "metadata": {
        "colab": {
          "base_uri": "https://localhost:8080/"
        },
        "id": "pIAr-lXaV8JB",
        "outputId": "3890e051-140a-4b65-d25b-96b9c79c9d48"
      },
      "execution_count": 129,
      "outputs": [
        {
          "output_type": "execute_result",
          "data": {
            "text/plain": [
              "1.0"
            ]
          },
          "metadata": {},
          "execution_count": 129
        }
      ]
    },
    {
      "cell_type": "code",
      "source": [
        "np.sin(x)"
      ],
      "metadata": {
        "colab": {
          "base_uri": "https://localhost:8080/"
        },
        "id": "_l_HhLQAWNPb",
        "outputId": "2202bf28-5258-4ccd-d92f-d7516a60bba3"
      },
      "execution_count": 130,
      "outputs": [
        {
          "output_type": "execute_result",
          "data": {
            "text/plain": [
              "array([0.84147098, 0.90929743, 0.14112001])"
            ]
          },
          "metadata": {},
          "execution_count": 130
        }
      ]
    },
    {
      "cell_type": "code",
      "source": [
        "list(range(25))"
      ],
      "metadata": {
        "id": "Fmx6bhVeXL0f"
      },
      "execution_count": null,
      "outputs": []
    },
    {
      "cell_type": "code",
      "source": [
        "np.arange(25)"
      ],
      "metadata": {
        "colab": {
          "base_uri": "https://localhost:8080/"
        },
        "id": "pQ8HUyl6XX4P",
        "outputId": "48e1a720-c1c8-4cd9-9f7a-4ca5ea303979"
      },
      "execution_count": 132,
      "outputs": [
        {
          "output_type": "execute_result",
          "data": {
            "text/plain": [
              "array([ 0,  1,  2,  3,  4,  5,  6,  7,  8,  9, 10, 11, 12, 13, 14, 15, 16,\n",
              "       17, 18, 19, 20, 21, 22, 23, 24])"
            ]
          },
          "metadata": {},
          "execution_count": 132
        }
      ]
    },
    {
      "cell_type": "code",
      "source": [
        "data = np.arange(25)"
      ],
      "metadata": {
        "id": "C58x5R0sXb00"
      },
      "execution_count": 133,
      "outputs": []
    },
    {
      "cell_type": "code",
      "source": [
        "data.dtype"
      ],
      "metadata": {
        "colab": {
          "base_uri": "https://localhost:8080/"
        },
        "id": "iC1Q1H1rXeND",
        "outputId": "2cc968d1-98c3-4855-f4d5-acd2e90afdf9"
      },
      "execution_count": 134,
      "outputs": [
        {
          "output_type": "execute_result",
          "data": {
            "text/plain": [
              "dtype('int64')"
            ]
          },
          "metadata": {},
          "execution_count": 134
        }
      ]
    },
    {
      "cell_type": "code",
      "source": [
        "data.shape"
      ],
      "metadata": {
        "colab": {
          "base_uri": "https://localhost:8080/"
        },
        "id": "rJIzEmW-XzU6",
        "outputId": "473cd08c-7ef0-498a-ea86-b46e21b3df7b"
      },
      "execution_count": 135,
      "outputs": [
        {
          "output_type": "execute_result",
          "data": {
            "text/plain": [
              "(25,)"
            ]
          },
          "metadata": {},
          "execution_count": 135
        }
      ]
    },
    {
      "cell_type": "code",
      "source": [
        "data.size"
      ],
      "metadata": {
        "colab": {
          "base_uri": "https://localhost:8080/"
        },
        "id": "FUgUxSuGX3KJ",
        "outputId": "ecbed736-3312-4179-f936-2078f95b66cd"
      },
      "execution_count": 136,
      "outputs": [
        {
          "output_type": "execute_result",
          "data": {
            "text/plain": [
              "25"
            ]
          },
          "metadata": {},
          "execution_count": 136
        }
      ]
    },
    {
      "cell_type": "code",
      "source": [
        "data.reshape(5,5)"
      ],
      "metadata": {
        "colab": {
          "base_uri": "https://localhost:8080/"
        },
        "id": "U_9tJwAoYCtN",
        "outputId": "08b17569-8e2d-42ec-ffac-cf8906f446ce"
      },
      "execution_count": 137,
      "outputs": [
        {
          "output_type": "execute_result",
          "data": {
            "text/plain": [
              "array([[ 0,  1,  2,  3,  4],\n",
              "       [ 5,  6,  7,  8,  9],\n",
              "       [10, 11, 12, 13, 14],\n",
              "       [15, 16, 17, 18, 19],\n",
              "       [20, 21, 22, 23, 24]])"
            ]
          },
          "metadata": {},
          "execution_count": 137
        }
      ]
    },
    {
      "cell_type": "code",
      "source": [
        "data2 = data.reshape(5,5)\n",
        "data2.shape\n",
        "data2.size"
      ],
      "metadata": {
        "colab": {
          "base_uri": "https://localhost:8080/"
        },
        "id": "3O-yu-gRYLWx",
        "outputId": "c64d769e-15de-45e6-bf93-6099f55216d1"
      },
      "execution_count": 142,
      "outputs": [
        {
          "output_type": "execute_result",
          "data": {
            "text/plain": [
              "25"
            ]
          },
          "metadata": {},
          "execution_count": 142
        }
      ]
    },
    {
      "cell_type": "markdown",
      "source": [
        "### indexing & slicing"
      ],
      "metadata": {
        "id": "IYHiJhORYfcm"
      }
    },
    {
      "cell_type": "code",
      "source": [
        "data2"
      ],
      "metadata": {
        "colab": {
          "base_uri": "https://localhost:8080/"
        },
        "id": "R9U1LRQ9YjdT",
        "outputId": "d6be3d29-6cc5-48b8-e403-06f847222efd"
      },
      "execution_count": 143,
      "outputs": [
        {
          "output_type": "execute_result",
          "data": {
            "text/plain": [
              "array([[ 0,  1,  2,  3,  4],\n",
              "       [ 5,  6,  7,  8,  9],\n",
              "       [10, 11, 12, 13, 14],\n",
              "       [15, 16, 17, 18, 19],\n",
              "       [20, 21, 22, 23, 24]])"
            ]
          },
          "metadata": {},
          "execution_count": 143
        }
      ]
    },
    {
      "cell_type": "code",
      "source": [
        "data2[2]"
      ],
      "metadata": {
        "colab": {
          "base_uri": "https://localhost:8080/"
        },
        "id": "R_c4gHYYY2BD",
        "outputId": "1130b9cf-f8a0-4b7a-ffd9-4aaecd4f892e"
      },
      "execution_count": 145,
      "outputs": [
        {
          "output_type": "execute_result",
          "data": {
            "text/plain": [
              "array([10, 11, 12, 13, 14])"
            ]
          },
          "metadata": {},
          "execution_count": 145
        }
      ]
    },
    {
      "cell_type": "code",
      "source": [
        "data2[2][2]"
      ],
      "metadata": {
        "colab": {
          "base_uri": "https://localhost:8080/"
        },
        "id": "RXlkROxGYnS_",
        "outputId": "821dbae2-8288-4ebd-9f85-73020006cc85"
      },
      "execution_count": 144,
      "outputs": [
        {
          "output_type": "execute_result",
          "data": {
            "text/plain": [
              "12"
            ]
          },
          "metadata": {},
          "execution_count": 144
        }
      ]
    },
    {
      "cell_type": "markdown",
      "source": [
        "#### get 6,7 & 11,12"
      ],
      "metadata": {
        "id": "JnmDlaHtZMSD"
      }
    },
    {
      "cell_type": "code",
      "source": [
        "data2[1:3]"
      ],
      "metadata": {
        "colab": {
          "base_uri": "https://localhost:8080/"
        },
        "id": "dpWFbkvjY89F",
        "outputId": "d5e67ff0-fdb5-4fc3-a094-6ab88145461b"
      },
      "execution_count": 147,
      "outputs": [
        {
          "output_type": "execute_result",
          "data": {
            "text/plain": [
              "array([[ 5,  6,  7,  8,  9],\n",
              "       [10, 11, 12, 13, 14]])"
            ]
          },
          "metadata": {},
          "execution_count": 147
        }
      ]
    },
    {
      "cell_type": "code",
      "source": [
        "data2[2,2]"
      ],
      "metadata": {
        "colab": {
          "base_uri": "https://localhost:8080/"
        },
        "id": "o-8TngT7ZQEg",
        "outputId": "9e5b66f8-f5a1-4f98-c766-e894715a4bb0"
      },
      "execution_count": 149,
      "outputs": [
        {
          "output_type": "execute_result",
          "data": {
            "text/plain": [
              "12"
            ]
          },
          "metadata": {},
          "execution_count": 149
        }
      ]
    },
    {
      "cell_type": "code",
      "source": [
        "data2[1:3,1:3]"
      ],
      "metadata": {
        "colab": {
          "base_uri": "https://localhost:8080/"
        },
        "id": "Fiz9n1feZror",
        "outputId": "81574d32-1a00-422c-8c0c-00fb0d14ff24"
      },
      "execution_count": 150,
      "outputs": [
        {
          "output_type": "execute_result",
          "data": {
            "text/plain": [
              "array([[ 6,  7],\n",
              "       [11, 12]])"
            ]
          },
          "metadata": {},
          "execution_count": 150
        }
      ]
    },
    {
      "cell_type": "markdown",
      "source": [
        "#### : 全取"
      ],
      "metadata": {
        "id": "tuNLFqF8dSBT"
      }
    },
    {
      "cell_type": "code",
      "source": [
        "data2[:,0]"
      ],
      "metadata": {
        "colab": {
          "base_uri": "https://localhost:8080/"
        },
        "id": "Hv_ZrVK7dAEd",
        "outputId": "66edbf92-de7a-4b5a-e67a-94f875b08556"
      },
      "execution_count": 152,
      "outputs": [
        {
          "output_type": "execute_result",
          "data": {
            "text/plain": [
              "array([ 0,  5, 10, 15, 20])"
            ]
          },
          "metadata": {},
          "execution_count": 152
        }
      ]
    },
    {
      "cell_type": "markdown",
      "source": [
        "## MatPlotLib\n",
        "* pyplot ==> 函式式的繪圖方式(functional)\n",
        "* artist ==> OOP"
      ],
      "metadata": {
        "id": "MPVKo2FleNt1"
      }
    },
    {
      "cell_type": "markdown",
      "source": [
        "### Line Chart"
      ],
      "metadata": {
        "id": "zqjYPH_FhZ_G"
      }
    },
    {
      "cell_type": "code",
      "source": [
        "import matplotlib.pyplot as plt"
      ],
      "metadata": {
        "id": "cB8RwAuIeUC5"
      },
      "execution_count": 168,
      "outputs": []
    },
    {
      "cell_type": "code",
      "source": [
        "x = list('12345')\n",
        "x"
      ],
      "metadata": {
        "colab": {
          "base_uri": "https://localhost:8080/"
        },
        "id": "fVZFMwd1fqHR",
        "outputId": "80d86dd3-e13f-44b6-8cd0-674d0b049c53"
      },
      "execution_count": 167,
      "outputs": [
        {
          "output_type": "execute_result",
          "data": {
            "text/plain": [
              "['1', '2', '3', '4', '5']"
            ]
          },
          "metadata": {},
          "execution_count": 167
        }
      ]
    },
    {
      "cell_type": "code",
      "source": [
        "plt.plot(x)"
      ],
      "metadata": {
        "colab": {
          "base_uri": "https://localhost:8080/",
          "height": 283
        },
        "id": "8SdUI6_BeYRO",
        "outputId": "55e1fd52-82f0-4492-95e8-f79e76a5125c"
      },
      "execution_count": 169,
      "outputs": [
        {
          "output_type": "execute_result",
          "data": {
            "text/plain": [
              "[<matplotlib.lines.Line2D at 0x7f0170d026d0>]"
            ]
          },
          "metadata": {},
          "execution_count": 169
        },
        {
          "output_type": "display_data",
          "data": {
            "text/plain": [
              "<Figure size 432x288 with 1 Axes>"
            ],
            "image/png": "[encoded data removed]"
          },
          "metadata": {
            "needs_background": "light"
          }
        }
      ]
    },
    {
      "cell_type": "code",
      "source": [
        "plt.plot(x,'o')"
      ],
      "metadata": {
        "colab": {
          "base_uri": "https://localhost:8080/",
          "height": 283
        },
        "id": "AoBvPlNog_oy",
        "outputId": "9df25b13-4d12-421a-e07c-544992f95364"
      },
      "execution_count": 172,
      "outputs": [
        {
          "output_type": "execute_result",
          "data": {
            "text/plain": [
              "[<matplotlib.lines.Line2D at 0x7f01704ed150>]"
            ]
          },
          "metadata": {},
          "execution_count": 172
        },
        {
          "output_type": "display_data",
          "data": {
            "text/plain": [
              "<Figure size 432x288 with 1 Axes>"
            ],
            "image/png": "[encoded data removed]"
          },
          "metadata": {
            "needs_background": "light"
          }
        }
      ]
    },
    {
      "cell_type": "code",
      "source": [
        "plt.plot(x, 'ro')"
      ],
      "metadata": {
        "colab": {
          "base_uri": "https://localhost:8080/",
          "height": 283
        },
        "id": "RasubSiehJ56",
        "outputId": "a8baf31d-3c93-4248-a999-d1fe491d7df5"
      },
      "execution_count": 173,
      "outputs": [
        {
          "output_type": "execute_result",
          "data": {
            "text/plain": [
              "[<matplotlib.lines.Line2D at 0x7f01704ad790>]"
            ]
          },
          "metadata": {},
          "execution_count": 173
        },
        {
          "output_type": "display_data",
          "data": {
            "text/plain": [
              "<Figure size 432x288 with 1 Axes>"
            ],
            "image/png": "[encoded data removed]"
          },
          "metadata": {
            "needs_background": "light"
          }
        }
      ]
    },
    {
      "cell_type": "code",
      "source": [
        "plt.plot(x, 'ro-')"
      ],
      "metadata": {
        "colab": {
          "base_uri": "https://localhost:8080/",
          "height": 283
        },
        "id": "f3olegZghNhd",
        "outputId": "0b2560be-27c2-46ca-a02b-8a696e7bf925"
      },
      "execution_count": 174,
      "outputs": [
        {
          "output_type": "execute_result",
          "data": {
            "text/plain": [
              "[<matplotlib.lines.Line2D at 0x7f0170439f90>]"
            ]
          },
          "metadata": {},
          "execution_count": 174
        },
        {
          "output_type": "display_data",
          "data": {
            "text/plain": [
              "<Figure size 432x288 with 1 Axes>"
            ],
            "image/png": "[encoded data removed]"
          },
          "metadata": {
            "needs_background": "light"
          }
        }
      ]
    },
    {
      "cell_type": "code",
      "source": [
        "plt.plot(x, 'ro--')\n",
        "plt.xlabel('index')\n",
        "plt.ylabel('value')\n",
        "plt.title('x')"
      ],
      "metadata": {
        "colab": {
          "base_uri": "https://localhost:8080/",
          "height": 313
        },
        "id": "HyW6tAgYhRUV",
        "outputId": "2a6ef27d-07d6-4dc8-b7f7-d8a0f7ab8b80"
      },
      "execution_count": 177,
      "outputs": [
        {
          "output_type": "execute_result",
          "data": {
            "text/plain": [
              "Text(0.5, 1.0, 'x')"
            ]
          },
          "metadata": {},
          "execution_count": 177
        },
        {
          "output_type": "display_data",
          "data": {
            "text/plain": [
              "<Figure size 432x288 with 1 Axes>"
            ],
            "image/png": "[encoded data removed]"
          },
          "metadata": {
            "needs_background": "light"
          }
        }
      ]
    },
    {
      "cell_type": "code",
      "source": [
        "plt.plot(x, 'ro--', label='x')\n",
        "plt.xlabel('index')\n",
        "plt.ylabel('value')\n",
        "plt.title('x')\n",
        "plt.legend()"
      ],
      "metadata": {
        "colab": {
          "base_uri": "https://localhost:8080/",
          "height": 313
        },
        "id": "ge1YBjY2hu2S",
        "outputId": "727b69c1-ed68-4520-fe06-d387f76e7d10"
      },
      "execution_count": 180,
      "outputs": [
        {
          "output_type": "execute_result",
          "data": {
            "text/plain": [
              "<matplotlib.legend.Legend at 0x7f017014f510>"
            ]
          },
          "metadata": {},
          "execution_count": 180
        },
        {
          "output_type": "display_data",
          "data": {
            "text/plain": [
              "<Figure size 432x288 with 1 Axes>"
            ],
            "image/png": "[encoded data removed]"
          },
          "metadata": {
            "needs_background": "light"
          }
        }
      ]
    },
    {
      "cell_type": "markdown",
      "source": [
        "### bar Char"
      ],
      "metadata": {
        "id": "S5uMPy6Rh58D"
      }
    },
    {
      "cell_type": "code",
      "source": [
        "c = list('abcde')\n",
        "plt.bar(c,x)\n"
      ],
      "metadata": {
        "colab": {
          "base_uri": "https://localhost:8080/",
          "height": 283
        },
        "id": "yhah046Vh8YC",
        "outputId": "a8eb8964-731d-4560-8677-8f08e7e79721"
      },
      "execution_count": 186,
      "outputs": [
        {
          "output_type": "execute_result",
          "data": {
            "text/plain": [
              "<BarContainer object of 5 artists>"
            ]
          },
          "metadata": {},
          "execution_count": 186
        },
        {
          "output_type": "display_data",
          "data": {
            "text/plain": [
              "<Figure size 432x288 with 1 Axes>"
            ],
            "image/png": "[encoded data removed]"
          },
          "metadata": {
            "needs_background": "light"
          }
        }
      ]
    },
    {
      "cell_type": "markdown",
      "source": [
        "### Pie Chart"
      ],
      "metadata": {
        "id": "IG4fq4sYi0hw"
      }
    },
    {
      "cell_type": "code",
      "source": [
        "plt.pie(x, labels=c)"
      ],
      "metadata": {
        "colab": {
          "base_uri": "https://localhost:8080/",
          "height": 427
        },
        "id": "062xwtGVi2ml",
        "outputId": "4fb3ac73-41e3-491e-f5c9-fede3e76040b"
      },
      "execution_count": 188,
      "outputs": [
        {
          "output_type": "execute_result",
          "data": {
            "text/plain": [
              "([<matplotlib.patches.Wedge at 0x7f016ffc4ed0>,\n",
              "  <matplotlib.patches.Wedge at 0x7f016ff67390>,\n",
              "  <matplotlib.patches.Wedge at 0x7f016ff67350>,\n",
              "  <matplotlib.patches.Wedge at 0x7f016ff679d0>,\n",
              "  <matplotlib.patches.Wedge at 0x7f016ff70210>],\n",
              " [Text(1.075962358309037, 0.22870287165240302, 'a'),\n",
              "  Text(0.7360436312779136, 0.817459340184711, 'b'),\n",
              "  Text(-0.33991877217145816, 1.046162142464278, 'c'),\n",
              "  Text(-1.0759623315431446, -0.2287029975759841, 'd'),\n",
              "  Text(0.5500001932481627, -0.9526278325909778, 'e')])"
            ]
          },
          "metadata": {},
          "execution_count": 188
        },
        {
          "output_type": "display_data",
          "data": {
            "text/plain": [
              "<Figure size 432x288 with 1 Axes>"
            ],
            "image/png": "[encoded data removed]"
          },
          "metadata": {}
        }
      ]
    },
    {
      "cell_type": "markdown",
      "source": [
        "## Pandas\n",
        "* Series 很像ndarray, 一維\n",
        "* DataFrame 二維, 內容是Series"
      ],
      "metadata": {
        "id": "PncLH4DMj2FZ"
      }
    },
    {
      "cell_type": "code",
      "source": [
        "import pandas as pd"
      ],
      "metadata": {
        "id": "COvf-b11tSk1"
      },
      "execution_count": 214,
      "outputs": []
    },
    {
      "cell_type": "code",
      "source": [
        "!pip install yfinance"
      ],
      "metadata": {
        "id": "K6eruysGkQ5t"
      },
      "execution_count": null,
      "outputs": []
    },
    {
      "cell_type": "code",
      "source": [
        "import yfinance as yf"
      ],
      "metadata": {
        "id": "_xADubtrkker"
      },
      "execution_count": 192,
      "outputs": []
    },
    {
      "cell_type": "code",
      "source": [
        "df = yf.download('CHT')"
      ],
      "metadata": {
        "colab": {
          "base_uri": "https://localhost:8080/"
        },
        "id": "vFtSBQZDkqBz",
        "outputId": "241663f2-a718-4639-c060-523fee56ac7c"
      },
      "execution_count": 203,
      "outputs": [
        {
          "output_type": "stream",
          "name": "stdout",
          "text": [
            "\r[*********************100%***********************]  1 of 1 completed\n"
          ]
        }
      ]
    },
    {
      "cell_type": "code",
      "source": [
        "type(df)"
      ],
      "metadata": {
        "colab": {
          "base_uri": "https://localhost:8080/"
        },
        "id": "nL6XD6j4kvU-",
        "outputId": "e05bcce2-0eb4-4717-8f97-e5f57466029a"
      },
      "execution_count": 194,
      "outputs": [
        {
          "output_type": "execute_result",
          "data": {
            "text/plain": [
              "pandas.core.frame.DataFrame"
            ]
          },
          "metadata": {},
          "execution_count": 194
        }
      ]
    },
    {
      "cell_type": "code",
      "source": [
        "df.head()"
      ],
      "metadata": {
        "colab": {
          "base_uri": "https://localhost:8080/",
          "height": 238
        },
        "id": "1hjOggr6kzTg",
        "outputId": "4b4e7155-7ca8-43b8-88ac-f6dba535e521"
      },
      "execution_count": 195,
      "outputs": [
        {
          "output_type": "execute_result",
          "data": {
            "text/plain": [
              "                Open      High       Low     Close  Adj Close     Volume\n",
              "Date                                                                    \n",
              "2010-06-29  1.266667  1.666667  1.169333  1.592667   1.592667  281494500\n",
              "2010-06-30  1.719333  2.028000  1.553333  1.588667   1.588667  257806500\n",
              "2010-07-01  1.666667  1.728000  1.351333  1.464000   1.464000  123282000\n",
              "2010-07-02  1.533333  1.540000  1.247333  1.280000   1.280000   77097000\n",
              "2010-07-06  1.333333  1.333333  1.055333  1.074000   1.074000  103003500"
            ],
            "text/html": [
              "\n",
              "  <div id=\"df-47a21f1a-8ef3-4cdc-9c56-db6c9932d9d4\">\n",
              "    <div class=\"colab-df-container\">\n",
              "      <div>\n",
              "<style scoped>\n",
              "    .dataframe tbody tr th:only-of-type {\n",
              "        vertical-align: middle;\n",
              "    }\n",
              "\n",
              "    .dataframe tbody tr th {\n",
              "        vertical-align: top;\n",
              "    }\n",
              "\n",
              "    .dataframe thead th {\n",
              "        text-align: right;\n",
              "    }\n",
              "</style>\n",
              "<table border=\"1\" class=\"dataframe\">\n",
              "  <thead>\n",
              "    <tr style=\"text-align: right;\">\n",
              "      <th></th>\n",
              "      <th>Open</th>\n",
              "      <th>High</th>\n",
              "      <th>Low</th>\n",
              "      <th>Close</th>\n",
              "      <th>Adj Close</th>\n",
              "      <th>Volume</th>\n",
              "    </tr>\n",
              "    <tr>\n",
              "      <th>Date</th>\n",
              "      <th></th>\n",
              "      <th></th>\n",
              "      <th></th>\n",
              "      <th></th>\n",
              "      <th></th>\n",
              "      <th></th>\n",
              "    </tr>\n",
              "  </thead>\n",
              "  <tbody>\n",
              "    <tr>\n",
              "      <th>2010-06-29</th>\n",
              "      <td>1.266667</td>\n",
              "      <td>1.666667</td>\n",
              "      <td>1.169333</td>\n",
              "      <td>1.592667</td>\n",
              "      <td>1.592667</td>\n",
              "      <td>281494500</td>\n",
              "    </tr>\n",
              "    <tr>\n",
              "      <th>2010-06-30</th>\n",
              "      <td>1.719333</td>\n",
              "      <td>2.028000</td>\n",
              "      <td>1.553333</td>\n",
              "      <td>1.588667</td>\n",
              "      <td>1.588667</td>\n",
              "      <td>257806500</td>\n",
              "    </tr>\n",
              "    <tr>\n",
              "      <th>2010-07-01</th>\n",
              "      <td>1.666667</td>\n",
              "      <td>1.728000</td>\n",
              "      <td>1.351333</td>\n",
              "      <td>1.464000</td>\n",
              "      <td>1.464000</td>\n",
              "      <td>123282000</td>\n",
              "    </tr>\n",
              "    <tr>\n",
              "      <th>2010-07-02</th>\n",
              "      <td>1.533333</td>\n",
              "      <td>1.540000</td>\n",
              "      <td>1.247333</td>\n",
              "      <td>1.280000</td>\n",
              "      <td>1.280000</td>\n",
              "      <td>77097000</td>\n",
              "    </tr>\n",
              "    <tr>\n",
              "      <th>2010-07-06</th>\n",
              "      <td>1.333333</td>\n",
              "      <td>1.333333</td>\n",
              "      <td>1.055333</td>\n",
              "      <td>1.074000</td>\n",
              "      <td>1.074000</td>\n",
              "      <td>103003500</td>\n",
              "    </tr>\n",
              "  </tbody>\n",
              "</table>\n",
              "</div>\n",
              "      <button class=\"colab-df-convert\" onclick=\"convertToInteractive('df-47a21f1a-8ef3-4cdc-9c56-db6c9932d9d4')\"\n",
              "              title=\"Convert this dataframe to an interactive table.\"\n",
              "              style=\"display:none;\">\n",
              "        \n",
              "  <svg xmlns=\"http://www.w3.org/2000/svg\" height=\"24px\"viewBox=\"0 0 24 24\"\n",
              "       width=\"24px\">\n",
              "    <path d=\"M0 0h24v24H0V0z\" fill=\"none\"/>\n",
              "    <path d=\"M18.56 5.44l.94 2.06.94-2.06 2.06-.94-2.06-.94-.94-2.06-.94 2.06-2.06.94zm-11 1L8.5 8.5l.94-2.06 2.06-.94-2.06-.94L8.5 2.5l-.94 2.06-2.06.94zm10 10l.94 2.06.94-2.06 2.06-.94-2.06-.94-.94-2.06-.94 2.06-2.06.94z\"/><path d=\"M17.41 7.96l-1.37-1.37c-.4-.4-.92-.59-1.43-.59-.52 0-1.04.2-1.43.59L10.3 9.45l-7.72 7.72c-.78.78-.78 2.05 0 2.83L4 21.41c.39.39.9.59 1.41.59.51 0 1.02-.2 1.41-.59l7.78-7.78 2.81-2.81c.8-.78.8-2.07 0-2.86zM5.41 20L4 18.59l7.72-7.72 1.47 1.35L5.41 20z\"/>\n",
              "  </svg>\n",
              "      </button>\n",
              "      \n",
              "  <style>\n",
              "    .colab-df-container {\n",
              "      display:flex;\n",
              "      flex-wrap:wrap;\n",
              "      gap: 12px;\n",
              "    }\n",
              "\n",
              "    .colab-df-convert {\n",
              "      background-color: #E8F0FE;\n",
              "      border: none;\n",
              "      border-radius: 50%;\n",
              "      cursor: pointer;\n",
              "      display: none;\n",
              "      fill: #1967D2;\n",
              "      height: 32px;\n",
              "      padding: 0 0 0 0;\n",
              "      width: 32px;\n",
              "    }\n",
              "\n",
              "    .colab-df-convert:hover {\n",
              "      background-color: #E2EBFA;\n",
              "      box-shadow: 0px 1px 2px rgba(60, 64, 67, 0.3), 0px 1px 3px 1px rgba(60, 64, 67, 0.15);\n",
              "      fill: #174EA6;\n",
              "    }\n",
              "\n",
              "    [theme=dark] .colab-df-convert {\n",
              "      background-color: #3B4455;\n",
              "      fill: #D2E3FC;\n",
              "    }\n",
              "\n",
              "    [theme=dark] .colab-df-convert:hover {\n",
              "      background-color: #434B5C;\n",
              "      box-shadow: 0px 1px 3px 1px rgba(0, 0, 0, 0.15);\n",
              "      filter: drop-shadow(0px 1px 2px rgba(0, 0, 0, 0.3));\n",
              "      fill: #FFFFFF;\n",
              "    }\n",
              "  </style>\n",
              "\n",
              "      <script>\n",
              "        const buttonEl =\n",
              "          document.querySelector('#df-47a21f1a-8ef3-4cdc-9c56-db6c9932d9d4 button.colab-df-convert');\n",
              "        buttonEl.style.display =\n",
              "          google.colab.kernel.accessAllowed ? 'block' : 'none';\n",
              "\n",
              "        async function convertToInteractive(key) {\n",
              "          const element = document.querySelector('#df-47a21f1a-8ef3-4cdc-9c56-db6c9932d9d4');\n",
              "          const dataTable =\n",
              "            await google.colab.kernel.invokeFunction('convertToInteractive',\n",
              "                                                     [key], {});\n",
              "          if (!dataTable) return;\n",
              "\n",
              "          const docLinkHtml = 'Like what you see? Visit the ' +\n",
              "            '<a target=\"_blank\" href=https://colab.research.google.com/notebooks/data_table.ipynb>data table notebook</a>'\n",
              "            + ' to learn more about interactive tables.';\n",
              "          element.innerHTML = '';\n",
              "          dataTable['output_type'] = 'display_data';\n",
              "          await google.colab.output.renderOutput(dataTable, element);\n",
              "          const docLink = document.createElement('div');\n",
              "          docLink.innerHTML = docLinkHtml;\n",
              "          element.appendChild(docLink);\n",
              "        }\n",
              "      </script>\n",
              "    </div>\n",
              "  </div>\n",
              "  "
            ]
          },
          "metadata": {},
          "execution_count": 195
        }
      ]
    },
    {
      "cell_type": "code",
      "source": [
        "df['Close']"
      ],
      "metadata": {
        "colab": {
          "base_uri": "https://localhost:8080/"
        },
        "id": "Fi7KeW9Qk4r5",
        "outputId": "50572af8-f81d-4ebe-91d1-c9ad8ec32cf8"
      },
      "execution_count": 201,
      "outputs": [
        {
          "output_type": "execute_result",
          "data": {
            "text/plain": [
              "Date\n",
              "2003-07-18    17.386190\n",
              "2003-07-21    16.954376\n",
              "2003-07-22    17.170282\n",
              "2003-07-23    16.988466\n",
              "2003-07-24    16.545288\n",
              "                ...    \n",
              "2022-08-23    40.700001\n",
              "2022-08-24    40.480000\n",
              "2022-08-25    40.570000\n",
              "2022-08-26    40.360001\n",
              "2022-08-29    40.470001\n",
              "Name: Close, Length: 4813, dtype: float64"
            ]
          },
          "metadata": {},
          "execution_count": 201
        }
      ]
    },
    {
      "cell_type": "code",
      "source": [
        "type(df['Close'])"
      ],
      "metadata": {
        "colab": {
          "base_uri": "https://localhost:8080/"
        },
        "id": "xddrS9tGmAKZ",
        "outputId": "54a30eba-0f3f-4d34-b1d1-e369f7cb5471"
      },
      "execution_count": 200,
      "outputs": [
        {
          "output_type": "execute_result",
          "data": {
            "text/plain": [
              "pandas.core.series.Series"
            ]
          },
          "metadata": {},
          "execution_count": 200
        }
      ]
    },
    {
      "cell_type": "code",
      "source": [
        "df['Close'][-1]/df['Close'][0]"
      ],
      "metadata": {
        "colab": {
          "base_uri": "https://localhost:8080/"
        },
        "id": "fZr8JEYJmfMt",
        "outputId": "5f44d419-f0a7-428b-d657-78025bb42e37"
      },
      "execution_count": 204,
      "outputs": [
        {
          "output_type": "execute_result",
          "data": {
            "text/plain": [
              "2.327709535903695"
            ]
          },
          "metadata": {},
          "execution_count": 204
        }
      ]
    },
    {
      "cell_type": "code",
      "source": [
        "df['2021-10']"
      ],
      "metadata": {
        "colab": {
          "base_uri": "https://localhost:8080/",
          "height": 795
        },
        "id": "mujRfRpom__p",
        "outputId": "06dc02f3-5edc-45b6-a739-996d1aa65d76"
      },
      "execution_count": 205,
      "outputs": [
        {
          "output_type": "stream",
          "name": "stderr",
          "text": [
            "/usr/local/lib/python3.7/dist-packages/ipykernel_launcher.py:1: FutureWarning: Indexing a DataFrame with a datetimelike index using a single string to slice the rows, like `frame[string]`, is deprecated and will be removed in a future version. Use `frame.loc[string]` instead.\n",
            "  \"\"\"Entry point for launching an IPython kernel.\n"
          ]
        },
        {
          "output_type": "execute_result",
          "data": {
            "text/plain": [
              "                 Open       High        Low      Close  Adj Close  Volume\n",
              "Date                                                                     \n",
              "2021-10-01  39.540001  39.689999  39.430000  39.570000  38.112015   97500\n",
              "2021-10-04  39.570000  39.630001  39.410000  39.560001  38.102383   78600\n",
              "2021-10-05  39.509998  39.669998  39.439999  39.560001  38.102383   85400\n",
              "2021-10-06  39.509998  39.549999  39.320000  39.549999  38.092751   77900\n",
              "2021-10-07  39.599998  39.740002  39.470001  39.529999  38.073486  126900\n",
              "2021-10-08  39.580002  39.630001  39.439999  39.540001  38.083118   88800\n",
              "2021-10-11  39.650002  39.689999  39.560001  39.619999  38.160172   80400\n",
              "2021-10-12  39.529999  39.820000  39.520000  39.790001  38.323910  106100\n",
              "2021-10-13  39.730000  39.730000  39.549999  39.680000  38.217960  113200\n",
              "2021-10-14  39.490002  39.709999  39.410000  39.689999  38.227592  109300\n",
              "2021-10-15  39.700001  39.930000  39.700001  39.759998  38.295013  110200\n",
              "2021-10-18  39.700001  39.790001  39.599998  39.599998  38.140907   77700\n",
              "2021-10-19  39.779999  39.950001  39.750000  39.830002  38.362434  117000\n",
              "2021-10-20  39.720001  39.810001  39.529999  39.560001  38.102383   79700\n",
              "2021-10-21  39.509998  39.580002  39.389999  39.570000  38.112015  118200\n",
              "2021-10-22  39.779999  39.849998  39.630001  39.639999  38.179436  113800\n",
              "2021-10-25  39.619999  39.639999  39.490002  39.599998  38.140907  127700\n",
              "2021-10-26  39.689999  39.689999  39.540001  39.650002  38.189068  130500\n",
              "2021-10-27  39.610001  39.680000  39.590000  39.599998  38.140907   79900\n",
              "2021-10-28  39.500000  39.590000  39.419998  39.590000  38.131279  102100\n",
              "2021-10-29  39.570000  39.639999  39.410000  39.500000  38.044594  107300"
            ],
            "text/html": [
              "\n",
              "  <div id=\"df-8224252b-20c6-4ee3-8b49-fd8c46637230\">\n",
              "    <div class=\"colab-df-container\">\n",
              "      <div>\n",
              "<style scoped>\n",
              "    .dataframe tbody tr th:only-of-type {\n",
              "        vertical-align: middle;\n",
              "    }\n",
              "\n",
              "    .dataframe tbody tr th {\n",
              "        vertical-align: top;\n",
              "    }\n",
              "\n",
              "    .dataframe thead th {\n",
              "        text-align: right;\n",
              "    }\n",
              "</style>\n",
              "<table border=\"1\" class=\"dataframe\">\n",
              "  <thead>\n",
              "    <tr style=\"text-align: right;\">\n",
              "      <th></th>\n",
              "      <th>Open</th>\n",
              "      <th>High</th>\n",
              "      <th>Low</th>\n",
              "      <th>Close</th>\n",
              "      <th>Adj Close</th>\n",
              "      <th>Volume</th>\n",
              "    </tr>\n",
              "    <tr>\n",
              "      <th>Date</th>\n",
              "      <th></th>\n",
              "      <th></th>\n",
              "      <th></th>\n",
              "      <th></th>\n",
              "      <th></th>\n",
              "      <th></th>\n",
              "    </tr>\n",
              "  </thead>\n",
              "  <tbody>\n",
              "    <tr>\n",
              "      <th>2021-10-01</th>\n",
              "      <td>39.540001</td>\n",
              "      <td>39.689999</td>\n",
              "      <td>39.430000</td>\n",
              "      <td>39.570000</td>\n",
              "      <td>38.112015</td>\n",
              "      <td>97500</td>\n",
              "    </tr>\n",
              "    <tr>\n",
              "      <th>2021-10-04</th>\n",
              "      <td>39.570000</td>\n",
              "      <td>39.630001</td>\n",
              "      <td>39.410000</td>\n",
              "      <td>39.560001</td>\n",
              "      <td>38.102383</td>\n",
              "      <td>78600</td>\n",
              "    </tr>\n",
              "    <tr>\n",
              "      <th>2021-10-05</th>\n",
              "      <td>39.509998</td>\n",
              "      <td>39.669998</td>\n",
              "      <td>39.439999</td>\n",
              "      <td>39.560001</td>\n",
              "      <td>38.102383</td>\n",
              "      <td>85400</td>\n",
              "    </tr>\n",
              "    <tr>\n",
              "      <th>2021-10-06</th>\n",
              "      <td>39.509998</td>\n",
              "      <td>39.549999</td>\n",
              "      <td>39.320000</td>\n",
              "      <td>39.549999</td>\n",
              "      <td>38.092751</td>\n",
              "      <td>77900</td>\n",
              "    </tr>\n",
              "    <tr>\n",
              "      <th>2021-10-07</th>\n",
              "      <td>39.599998</td>\n",
              "      <td>39.740002</td>\n",
              "      <td>39.470001</td>\n",
              "      <td>39.529999</td>\n",
              "      <td>38.073486</td>\n",
              "      <td>126900</td>\n",
              "    </tr>\n",
              "    <tr>\n",
              "      <th>2021-10-08</th>\n",
              "      <td>39.580002</td>\n",
              "      <td>39.630001</td>\n",
              "      <td>39.439999</td>\n",
              "      <td>39.540001</td>\n",
              "      <td>38.083118</td>\n",
              "      <td>88800</td>\n",
              "    </tr>\n",
              "    <tr>\n",
              "      <th>2021-10-11</th>\n",
              "      <td>39.650002</td>\n",
              "      <td>39.689999</td>\n",
              "      <td>39.560001</td>\n",
              "      <td>39.619999</td>\n",
              "      <td>38.160172</td>\n",
              "      <td>80400</td>\n",
              "    </tr>\n",
              "    <tr>\n",
              "      <th>2021-10-12</th>\n",
              "      <td>39.529999</td>\n",
              "      <td>39.820000</td>\n",
              "      <td>39.520000</td>\n",
              "      <td>39.790001</td>\n",
              "      <td>38.323910</td>\n",
              "      <td>106100</td>\n",
              "    </tr>\n",
              "    <tr>\n",
              "      <th>2021-10-13</th>\n",
              "      <td>39.730000</td>\n",
              "      <td>39.730000</td>\n",
              "      <td>39.549999</td>\n",
              "      <td>39.680000</td>\n",
              "      <td>38.217960</td>\n",
              "      <td>113200</td>\n",
              "    </tr>\n",
              "    <tr>\n",
              "      <th>2021-10-14</th>\n",
              "      <td>39.490002</td>\n",
              "      <td>39.709999</td>\n",
              "      <td>39.410000</td>\n",
              "      <td>39.689999</td>\n",
              "      <td>38.227592</td>\n",
              "      <td>109300</td>\n",
              "    </tr>\n",
              "    <tr>\n",
              "      <th>2021-10-15</th>\n",
              "      <td>39.700001</td>\n",
              "      <td>39.930000</td>\n",
              "      <td>39.700001</td>\n",
              "      <td>39.759998</td>\n",
              "      <td>38.295013</td>\n",
              "      <td>110200</td>\n",
              "    </tr>\n",
              "    <tr>\n",
              "      <th>2021-10-18</th>\n",
              "      <td>39.700001</td>\n",
              "      <td>39.790001</td>\n",
              "      <td>39.599998</td>\n",
              "      <td>39.599998</td>\n",
              "      <td>38.140907</td>\n",
              "      <td>77700</td>\n",
              "    </tr>\n",
              "    <tr>\n",
              "      <th>2021-10-19</th>\n",
              "      <td>39.779999</td>\n",
              "      <td>39.950001</td>\n",
              "      <td>39.750000</td>\n",
              "      <td>39.830002</td>\n",
              "      <td>38.362434</td>\n",
              "      <td>117000</td>\n",
              "    </tr>\n",
              "    <tr>\n",
              "      <th>2021-10-20</th>\n",
              "      <td>39.720001</td>\n",
              "      <td>39.810001</td>\n",
              "      <td>39.529999</td>\n",
              "      <td>39.560001</td>\n",
              "      <td>38.102383</td>\n",
              "      <td>79700</td>\n",
              "    </tr>\n",
              "    <tr>\n",
              "      <th>2021-10-21</th>\n",
              "      <td>39.509998</td>\n",
              "      <td>39.580002</td>\n",
              "      <td>39.389999</td>\n",
              "      <td>39.570000</td>\n",
              "      <td>38.112015</td>\n",
              "      <td>118200</td>\n",
              "    </tr>\n",
              "    <tr>\n",
              "      <th>2021-10-22</th>\n",
              "      <td>39.779999</td>\n",
              "      <td>39.849998</td>\n",
              "      <td>39.630001</td>\n",
              "      <td>39.639999</td>\n",
              "      <td>38.179436</td>\n",
              "      <td>113800</td>\n",
              "    </tr>\n",
              "    <tr>\n",
              "      <th>2021-10-25</th>\n",
              "      <td>39.619999</td>\n",
              "      <td>39.639999</td>\n",
              "      <td>39.490002</td>\n",
              "      <td>39.599998</td>\n",
              "      <td>38.140907</td>\n",
              "      <td>127700</td>\n",
              "    </tr>\n",
              "    <tr>\n",
              "      <th>2021-10-26</th>\n",
              "      <td>39.689999</td>\n",
              "      <td>39.689999</td>\n",
              "      <td>39.540001</td>\n",
              "      <td>39.650002</td>\n",
              "      <td>38.189068</td>\n",
              "      <td>130500</td>\n",
              "    </tr>\n",
              "    <tr>\n",
              "      <th>2021-10-27</th>\n",
              "      <td>39.610001</td>\n",
              "      <td>39.680000</td>\n",
              "      <td>39.590000</td>\n",
              "      <td>39.599998</td>\n",
              "      <td>38.140907</td>\n",
              "      <td>79900</td>\n",
              "    </tr>\n",
              "    <tr>\n",
              "      <th>2021-10-28</th>\n",
              "      <td>39.500000</td>\n",
              "      <td>39.590000</td>\n",
              "      <td>39.419998</td>\n",
              "      <td>39.590000</td>\n",
              "      <td>38.131279</td>\n",
              "      <td>102100</td>\n",
              "    </tr>\n",
              "    <tr>\n",
              "      <th>2021-10-29</th>\n",
              "      <td>39.570000</td>\n",
              "      <td>39.639999</td>\n",
              "      <td>39.410000</td>\n",
              "      <td>39.500000</td>\n",
              "      <td>38.044594</td>\n",
              "      <td>107300</td>\n",
              "    </tr>\n",
              "  </tbody>\n",
              "</table>\n",
              "</div>\n",
              "      <button class=\"colab-df-convert\" onclick=\"convertToInteractive('df-8224252b-20c6-4ee3-8b49-fd8c46637230')\"\n",
              "              title=\"Convert this dataframe to an interactive table.\"\n",
              "              style=\"display:none;\">\n",
              "        \n",
              "  <svg xmlns=\"http://www.w3.org/2000/svg\" height=\"24px\"viewBox=\"0 0 24 24\"\n",
              "       width=\"24px\">\n",
              "    <path d=\"M0 0h24v24H0V0z\" fill=\"none\"/>\n",
              "    <path d=\"M18.56 5.44l.94 2.06.94-2.06 2.06-.94-2.06-.94-.94-2.06-.94 2.06-2.06.94zm-11 1L8.5 8.5l.94-2.06 2.06-.94-2.06-.94L8.5 2.5l-.94 2.06-2.06.94zm10 10l.94 2.06.94-2.06 2.06-.94-2.06-.94-.94-2.06-.94 2.06-2.06.94z\"/><path d=\"M17.41 7.96l-1.37-1.37c-.4-.4-.92-.59-1.43-.59-.52 0-1.04.2-1.43.59L10.3 9.45l-7.72 7.72c-.78.78-.78 2.05 0 2.83L4 21.41c.39.39.9.59 1.41.59.51 0 1.02-.2 1.41-.59l7.78-7.78 2.81-2.81c.8-.78.8-2.07 0-2.86zM5.41 20L4 18.59l7.72-7.72 1.47 1.35L5.41 20z\"/>\n",
              "  </svg>\n",
              "      </button>\n",
              "      \n",
              "  <style>\n",
              "    .colab-df-container {\n",
              "      display:flex;\n",
              "      flex-wrap:wrap;\n",
              "      gap: 12px;\n",
              "    }\n",
              "\n",
              "    .colab-df-convert {\n",
              "      background-color: #E8F0FE;\n",
              "      border: none;\n",
              "      border-radius: 50%;\n",
              "      cursor: pointer;\n",
              "      display: none;\n",
              "      fill: #1967D2;\n",
              "      height: 32px;\n",
              "      padding: 0 0 0 0;\n",
              "      width: 32px;\n",
              "    }\n",
              "\n",
              "    .colab-df-convert:hover {\n",
              "      background-color: #E2EBFA;\n",
              "      box-shadow: 0px 1px 2px rgba(60, 64, 67, 0.3), 0px 1px 3px 1px rgba(60, 64, 67, 0.15);\n",
              "      fill: #174EA6;\n",
              "    }\n",
              "\n",
              "    [theme=dark] .colab-df-convert {\n",
              "      background-color: #3B4455;\n",
              "      fill: #D2E3FC;\n",
              "    }\n",
              "\n",
              "    [theme=dark] .colab-df-convert:hover {\n",
              "      background-color: #434B5C;\n",
              "      box-shadow: 0px 1px 3px 1px rgba(0, 0, 0, 0.15);\n",
              "      filter: drop-shadow(0px 1px 2px rgba(0, 0, 0, 0.3));\n",
              "      fill: #FFFFFF;\n",
              "    }\n",
              "  </style>\n",
              "\n",
              "      <script>\n",
              "        const buttonEl =\n",
              "          document.querySelector('#df-8224252b-20c6-4ee3-8b49-fd8c46637230 button.colab-df-convert');\n",
              "        buttonEl.style.display =\n",
              "          google.colab.kernel.accessAllowed ? 'block' : 'none';\n",
              "\n",
              "        async function convertToInteractive(key) {\n",
              "          const element = document.querySelector('#df-8224252b-20c6-4ee3-8b49-fd8c46637230');\n",
              "          const dataTable =\n",
              "            await google.colab.kernel.invokeFunction('convertToInteractive',\n",
              "                                                     [key], {});\n",
              "          if (!dataTable) return;\n",
              "\n",
              "          const docLinkHtml = 'Like what you see? Visit the ' +\n",
              "            '<a target=\"_blank\" href=https://colab.research.google.com/notebooks/data_table.ipynb>data table notebook</a>'\n",
              "            + ' to learn more about interactive tables.';\n",
              "          element.innerHTML = '';\n",
              "          dataTable['output_type'] = 'display_data';\n",
              "          await google.colab.output.renderOutput(dataTable, element);\n",
              "          const docLink = document.createElement('div');\n",
              "          docLink.innerHTML = docLinkHtml;\n",
              "          element.appendChild(docLink);\n",
              "        }\n",
              "      </script>\n",
              "    </div>\n",
              "  </div>\n",
              "  "
            ]
          },
          "metadata": {},
          "execution_count": 205
        }
      ]
    },
    {
      "cell_type": "code",
      "source": [
        "df['2021-10']['Close'][-1]/df['2021-10']['Close'][0]"
      ],
      "metadata": {
        "colab": {
          "base_uri": "https://localhost:8080/"
        },
        "id": "QZIZ0u8UnLZH",
        "outputId": "4ab7ff4d-a666-4f7c-e674-e5f64394c443"
      },
      "execution_count": 207,
      "outputs": [
        {
          "output_type": "stream",
          "name": "stderr",
          "text": [
            "/usr/local/lib/python3.7/dist-packages/ipykernel_launcher.py:1: FutureWarning: Indexing a DataFrame with a datetimelike index using a single string to slice the rows, like `frame[string]`, is deprecated and will be removed in a future version. Use `frame.loc[string]` instead.\n",
            "  \"\"\"Entry point for launching an IPython kernel.\n"
          ]
        },
        {
          "output_type": "execute_result",
          "data": {
            "text/plain": [
              "0.9982309907666395"
            ]
          },
          "metadata": {},
          "execution_count": 207
        }
      ]
    },
    {
      "cell_type": "code",
      "source": [
        "plt.plot(df['Close'])"
      ],
      "metadata": {
        "colab": {
          "base_uri": "https://localhost:8080/",
          "height": 283
        },
        "id": "fK3hfanqna8n",
        "outputId": "ff52589c-88fb-45fc-9170-836cb66e8f61"
      },
      "execution_count": 208,
      "outputs": [
        {
          "output_type": "execute_result",
          "data": {
            "text/plain": [
              "[<matplotlib.lines.Line2D at 0x7f016f3b7c90>]"
            ]
          },
          "metadata": {},
          "execution_count": 208
        },
        {
          "output_type": "display_data",
          "data": {
            "text/plain": [
              "<Figure size 432x288 with 1 Axes>"
            ],
            "image/png": "[encoded data removed]"
          },
          "metadata": {
            "needs_background": "light"
          }
        }
      ]
    },
    {
      "cell_type": "code",
      "source": [
        "df['2021-10']['Close'].plot()"
      ],
      "metadata": {
        "colab": {
          "base_uri": "https://localhost:8080/",
          "height": 388
        },
        "id": "vaJZbuZ0nhtN",
        "outputId": "e6d7b930-cbed-4e0b-e35d-224fb6fe1c84"
      },
      "execution_count": 210,
      "outputs": [
        {
          "output_type": "stream",
          "name": "stderr",
          "text": [
            "/usr/local/lib/python3.7/dist-packages/ipykernel_launcher.py:1: FutureWarning: Indexing a DataFrame with a datetimelike index using a single string to slice the rows, like `frame[string]`, is deprecated and will be removed in a future version. Use `frame.loc[string]` instead.\n",
            "  \"\"\"Entry point for launching an IPython kernel.\n"
          ]
        },
        {
          "output_type": "execute_result",
          "data": {
            "text/plain": [
              "<matplotlib.axes._subplots.AxesSubplot at 0x7f016f3b10d0>"
            ]
          },
          "metadata": {},
          "execution_count": 210
        },
        {
          "output_type": "display_data",
          "data": {
            "text/plain": [
              "<Figure size 432x288 with 1 Axes>"
            ],
            "image/png": "[encoded data removed]"
          },
          "metadata": {
            "needs_background": "light"
          }
        }
      ]
    },
    {
      "cell_type": "code",
      "source": [
        "for year in range(2010, 2023):\n",
        "  ret = df[str(year)]['Close'][-1]/df[str(year)]['Close'][0]\n",
        "  print(year, \"==>\", ret)"
      ],
      "metadata": {
        "colab": {
          "base_uri": "https://localhost:8080/"
        },
        "id": "6Fhg9JcIn4PY",
        "outputId": "a38ea8a2-36f8-4636-b07a-31c7ca60eaaa"
      },
      "execution_count": 212,
      "outputs": [
        {
          "output_type": "stream",
          "name": "stdout",
          "text": [
            "2010 ==> 1.2219657175575955\n",
            "2011 ==> 1.0544158029084159\n",
            "2012 ==> 0.981785109315864\n",
            "2013 ==> 0.9579207727972424\n",
            "2014 ==> 0.9542801608159592\n",
            "2015 ==> 1.0242155866033869\n",
            "2016 ==> 1.0658783388668995\n",
            "2017 ==> 1.118333797079656\n",
            "2018 ==> 0.9911381974684186\n",
            "2019 ==> 1.0497866265727351\n",
            "2020 ==> 1.0497417225011556\n",
            "2021 ==> 1.0870460235393238\n",
            "2022 ==> 0.9642601868865309\n"
          ]
        },
        {
          "output_type": "stream",
          "name": "stderr",
          "text": [
            "/usr/local/lib/python3.7/dist-packages/ipykernel_launcher.py:2: FutureWarning: Indexing a DataFrame with a datetimelike index using a single string to slice the rows, like `frame[string]`, is deprecated and will be removed in a future version. Use `frame.loc[string]` instead.\n",
            "  \n"
          ]
        }
      ]
    },
    {
      "cell_type": "markdown",
      "source": [
        "### 使用 pandas 讀取 JSON 檔"
      ],
      "metadata": {
        "id": "Q8W1Fn7Cs2HE"
      }
    },
    {
      "cell_type": "code",
      "source": [
        "stocks = pd.read_json(\"https://www.yuantaetfs.com/api/StkWeights?date=&fundid=1066\")"
      ],
      "metadata": {
        "id": "NpaTOlL7s3I0"
      },
      "execution_count": 215,
      "outputs": []
    },
    {
      "cell_type": "code",
      "source": [
        "stocks"
      ],
      "metadata": {
        "colab": {
          "base_uri": "https://localhost:8080/",
          "height": 1000
        },
        "id": "pnnav-DJtYxS",
        "outputId": "09494d3f-9b42-4497-84b0-23cce5ff47d1"
      },
      "execution_count": 216,
      "outputs": [
        {
          "output_type": "execute_result",
          "data": {
            "text/plain": [
              "    code  ym    name                                         ename  weights  \\\n",
              "0   2330 NaN     台積電   Taiwan Semiconductor Manufacturing Co. Ltd.    46.99   \n",
              "1   2317 NaN      鴻海               HON HAI PRECISION IND. CO. LTD.     5.06   \n",
              "2   2454 NaN     聯發科                                 MediaTek Inc.     3.81   \n",
              "3   2308 NaN     台達電                        DELTA ELECTRONICS INC.     2.23   \n",
              "4   2412 NaN     中華電                      Chunghwa Telecom Co. Ltd     1.84   \n",
              "5   2303 NaN      聯電                 UNITED MICROELECTRONICS CORP.     1.84   \n",
              "6   1301 NaN      台塑                  Formosa Plastics Corporation     1.75   \n",
              "7   2891 NaN     中信金               CTBC FINANCIAL HOLDING CO. LTD.     1.67   \n",
              "8   2881 NaN     富邦金              Fubon Financial Holding Co. Ltd.     1.59   \n",
              "9   2886 NaN     兆豐金           Mega Financial Holding Company Ltd.     1.55   \n",
              "10  1303 NaN      南亞                   NAN YA PLASTICS CORPORATION     1.52   \n",
              "11  2882 NaN     國泰金             CATHAY FINANCIAL HOLDING CO. LTD.     1.48   \n",
              "12  2884 NaN     玉山金           E.SUN FINANCIAL HOLDING COMPANYLTD.     1.47   \n",
              "13  2002 NaN      中鋼                       China Steel Corporation     1.39   \n",
              "14  1216 NaN      統一               UNI-PRESIDENT ENTERPRISES CORP.     1.24   \n",
              "15  3711 NaN   日月光投控               ASE Technology Holding Co. Ltd.     1.13   \n",
              "16  5871 NaN   中租-KY             Chailease Holding Company Limited     1.09   \n",
              "17  2892 NaN     第一金          First  Financial  Holding  Co.  Ltd.     1.08   \n",
              "18  5880 NaN     合庫金  Taiwan Cooperative Financial Holding Co.Ltd.     1.08   \n",
              "19  2885 NaN     元大金              Yuanta Financial Holding Co. Ltd     0.95   \n",
              "20  1326 NaN      台化         FORMOSA CHEMICALS & FIBRE CORPORATION     0.92   \n",
              "21  1101 NaN      台泥                           Taiwan Cement Corp.     0.92   \n",
              "22  2880 NaN     華南金            HUA NAN FINANCIAL HOLDINGS CO.LTD.     0.92   \n",
              "23  2603 NaN      長榮          EVERGREEN MARINE CORP. (TAIWAN) LTD.     0.87   \n",
              "24  2883 NaN     開發金     CHINA DEVELOPMENT FINANCIAL HOLDING CORP.     0.84   \n",
              "25  2382 NaN      廣達                          QUANTA COMPUTER INC.     0.82   \n",
              "26  3008 NaN     大立光                       LARGAN Precision Co.Ltd     0.76   \n",
              "27  3037 NaN      欣興                    Unimicron Technology Corp.     0.75   \n",
              "28  2207 NaN     和泰車                           HOTAI MOTOR CO.LTD.     0.74   \n",
              "29  2357 NaN      華碩                         ASUSTEK COMPUTER INC.     0.70   \n",
              "30  2887 NaN     台新金            Taishin Financial Holding Co. Ltd.     0.68   \n",
              "31  3045 NaN     台灣大                      TAIWAN  MOBILE  CO. LTD.     0.68   \n",
              "32  2379 NaN      瑞昱             Realtek Semiconductor Corporation     0.64   \n",
              "33  5876 NaN    上海商銀   THE SHANGHAI COMMERCIAL & SAVINGS BANK LTD.     0.64   \n",
              "34  2912 NaN     統一超             PRESIDENT CHAIN STORE CORPORATION     0.60   \n",
              "35  3034 NaN      聯詠                NOVATEK MICROELECTRONICS CORP.     0.58   \n",
              "36  2327 NaN      國巨                             YAGEO CORPORATION     0.57   \n",
              "37  2609 NaN      陽明              Yang Ming Marine Transport Corp.     0.55   \n",
              "38  2409 NaN      友達                               AUO Corporation     0.54   \n",
              "39  6415 NaN  矽力*-KY                                 Silergy Corp.     0.53   \n",
              "40  2395 NaN      研華                            ADVANTECH Co. Ltd.     0.52   \n",
              "41  1590 NaN  亞德客-KY                    AIRTAC INTERNATIONAL GROUP     0.50   \n",
              "42  2615 NaN      萬海                            WAN HAI LINES LTD.     0.48   \n",
              "43  4904 NaN      遠傳       Far EasTone Telecommunications Co. Ltd.     0.47   \n",
              "44  2801 NaN      彰銀                CHANG HWA COMMERCIAL BANK LTD.     0.45   \n",
              "45  6505 NaN     台塑化                    Formosa Petrochemical Corp     0.45   \n",
              "46  6770 NaN     力積電   Powerchip Semiconductor Manufacturing Corp.     0.34   \n",
              "47  9910 NaN      豐泰                 FENG TAY ENTERPRISES CO. LTD.     0.30   \n",
              "48  8046 NaN      南電      NAN YA PRINTED CIRCUIT BOARD CORPORATION     0.22   \n",
              "49  2408 NaN     南亞科                  NANYA TECHNOLOGY CORPORATION     0.17   \n",
              "\n",
              "          qty  \n",
              "0   232418578  \n",
              "1   115496932  \n",
              "2    14400065  \n",
              "3    20909326  \n",
              "4    36811170  \n",
              "5   113311992  \n",
              "6    47128550  \n",
              "7   175595375  \n",
              "8    67963461  \n",
              "9   107996620  \n",
              "10   54645291  \n",
              "11   79975319  \n",
              "12  131141957  \n",
              "13  119358258  \n",
              "14   46397363  \n",
              "15   32944765  \n",
              "16   13490096  \n",
              "17  100871428  \n",
              "18   97678531  \n",
              "19  115921669  \n",
              "20   33135046  \n",
              "21   57570220  \n",
              "22   98323097  \n",
              "23   24337816  \n",
              "24  155604944  \n",
              "25   25750481  \n",
              "26     992228  \n",
              "27   12177686  \n",
              "28    3087150  \n",
              "29    6826463  \n",
              "30  110011175  \n",
              "31   16699225  \n",
              "32    4602684  \n",
              "33   31709286  \n",
              "34    5433100  \n",
              "35    5538987  \n",
              "36    4449671  \n",
              "37   16905941  \n",
              "38   85178026  \n",
              "39    2421743  \n",
              "40    3997565  \n",
              "41    1510382  \n",
              "42   13585146  \n",
              "43   15462108  \n",
              "44   64138172  \n",
              "45   13210380  \n",
              "46   24746973  \n",
              "47    4269103  \n",
              "48    2033256  \n",
              "49    7921999  "
            ],
            "text/html": [
              "\n",
              "  <div id=\"df-8917b34c-b751-4726-9231-c52425f2fb33\">\n",
              "    <div class=\"colab-df-container\">\n",
              "      <div>\n",
              "<style scoped>\n",
              "    .dataframe tbody tr th:only-of-type {\n",
              "        vertical-align: middle;\n",
              "    }\n",
              "\n",
              "    .dataframe tbody tr th {\n",
              "        vertical-align: top;\n",
              "    }\n",
              "\n",
              "    .dataframe thead th {\n",
              "        text-align: right;\n",
              "    }\n",
              "</style>\n",
              "<table border=\"1\" class=\"dataframe\">\n",
              "  <thead>\n",
              "    <tr style=\"text-align: right;\">\n",
              "      <th></th>\n",
              "      <th>code</th>\n",
              "      <th>ym</th>\n",
              "      <th>name</th>\n",
              "      <th>ename</th>\n",
              "      <th>weights</th>\n",
              "      <th>qty</th>\n",
              "    </tr>\n",
              "  </thead>\n",
              "  <tbody>\n",
              "    <tr>\n",
              "      <th>0</th>\n",
              "      <td>2330</td>\n",
              "      <td>NaN</td>\n",
              "      <td>台積電</td>\n",
              "      <td>Taiwan Semiconductor Manufacturing Co. Ltd.</td>\n",
              "      <td>46.99</td>\n",
              "      <td>232418578</td>\n",
              "    </tr>\n",
              "    <tr>\n",
              "      <th>1</th>\n",
              "      <td>2317</td>\n",
              "      <td>NaN</td>\n",
              "      <td>鴻海</td>\n",
              "      <td>HON HAI PRECISION IND. CO. LTD.</td>\n",
              "      <td>5.06</td>\n",
              "      <td>115496932</td>\n",
              "    </tr>\n",
              "    <tr>\n",
              "      <th>2</th>\n",
              "      <td>2454</td>\n",
              "      <td>NaN</td>\n",
              "      <td>聯發科</td>\n",
              "      <td>MediaTek Inc.</td>\n",
              "      <td>3.81</td>\n",
              "      <td>14400065</td>\n",
              "    </tr>\n",
              "    <tr>\n",
              "      <th>3</th>\n",
              "      <td>2308</td>\n",
              "      <td>NaN</td>\n",
              "      <td>台達電</td>\n",
              "      <td>DELTA ELECTRONICS INC.</td>\n",
              "      <td>2.23</td>\n",
              "      <td>20909326</td>\n",
              "    </tr>\n",
              "    <tr>\n",
              "      <th>4</th>\n",
              "      <td>2412</td>\n",
              "      <td>NaN</td>\n",
              "      <td>中華電</td>\n",
              "      <td>Chunghwa Telecom Co. Ltd</td>\n",
              "      <td>1.84</td>\n",
              "      <td>36811170</td>\n",
              "    </tr>\n",
              "    <tr>\n",
              "      <th>5</th>\n",
              "      <td>2303</td>\n",
              "      <td>NaN</td>\n",
              "      <td>聯電</td>\n",
              "      <td>UNITED MICROELECTRONICS CORP.</td>\n",
              "      <td>1.84</td>\n",
              "      <td>113311992</td>\n",
              "    </tr>\n",
              "    <tr>\n",
              "      <th>6</th>\n",
              "      <td>1301</td>\n",
              "      <td>NaN</td>\n",
              "      <td>台塑</td>\n",
              "      <td>Formosa Plastics Corporation</td>\n",
              "      <td>1.75</td>\n",
              "      <td>47128550</td>\n",
              "    </tr>\n",
              "    <tr>\n",
              "      <th>7</th>\n",
              "      <td>2891</td>\n",
              "      <td>NaN</td>\n",
              "      <td>中信金</td>\n",
              "      <td>CTBC FINANCIAL HOLDING CO. LTD.</td>\n",
              "      <td>1.67</td>\n",
              "      <td>175595375</td>\n",
              "    </tr>\n",
              "    <tr>\n",
              "      <th>8</th>\n",
              "      <td>2881</td>\n",
              "      <td>NaN</td>\n",
              "      <td>富邦金</td>\n",
              "      <td>Fubon Financial Holding Co. Ltd.</td>\n",
              "      <td>1.59</td>\n",
              "      <td>67963461</td>\n",
              "    </tr>\n",
              "    <tr>\n",
              "      <th>9</th>\n",
              "      <td>2886</td>\n",
              "      <td>NaN</td>\n",
              "      <td>兆豐金</td>\n",
              "      <td>Mega Financial Holding Company Ltd.</td>\n",
              "      <td>1.55</td>\n",
              "      <td>107996620</td>\n",
              "    </tr>\n",
              "    <tr>\n",
              "      <th>10</th>\n",
              "      <td>1303</td>\n",
              "      <td>NaN</td>\n",
              "      <td>南亞</td>\n",
              "      <td>NAN YA PLASTICS CORPORATION</td>\n",
              "      <td>1.52</td>\n",
              "      <td>54645291</td>\n",
              "    </tr>\n",
              "    <tr>\n",
              "      <th>11</th>\n",
              "      <td>2882</td>\n",
              "      <td>NaN</td>\n",
              "      <td>國泰金</td>\n",
              "      <td>CATHAY FINANCIAL HOLDING CO. LTD.</td>\n",
              "      <td>1.48</td>\n",
              "      <td>79975319</td>\n",
              "    </tr>\n",
              "    <tr>\n",
              "      <th>12</th>\n",
              "      <td>2884</td>\n",
              "      <td>NaN</td>\n",
              "      <td>玉山金</td>\n",
              "      <td>E.SUN FINANCIAL HOLDING COMPANYLTD.</td>\n",
              "      <td>1.47</td>\n",
              "      <td>131141957</td>\n",
              "    </tr>\n",
              "    <tr>\n",
              "      <th>13</th>\n",
              "      <td>2002</td>\n",
              "      <td>NaN</td>\n",
              "      <td>中鋼</td>\n",
              "      <td>China Steel Corporation</td>\n",
              "      <td>1.39</td>\n",
              "      <td>119358258</td>\n",
              "    </tr>\n",
              "    <tr>\n",
              "      <th>14</th>\n",
              "      <td>1216</td>\n",
              "      <td>NaN</td>\n",
              "      <td>統一</td>\n",
              "      <td>UNI-PRESIDENT ENTERPRISES CORP.</td>\n",
              "      <td>1.24</td>\n",
              "      <td>46397363</td>\n",
              "    </tr>\n",
              "    <tr>\n",
              "      <th>15</th>\n",
              "      <td>3711</td>\n",
              "      <td>NaN</td>\n",
              "      <td>日月光投控</td>\n",
              "      <td>ASE Technology Holding Co. Ltd.</td>\n",
              "      <td>1.13</td>\n",
              "      <td>32944765</td>\n",
              "    </tr>\n",
              "    <tr>\n",
              "      <th>16</th>\n",
              "      <td>5871</td>\n",
              "      <td>NaN</td>\n",
              "      <td>中租-KY</td>\n",
              "      <td>Chailease Holding Company Limited</td>\n",
              "      <td>1.09</td>\n",
              "      <td>13490096</td>\n",
              "    </tr>\n",
              "    <tr>\n",
              "      <th>17</th>\n",
              "      <td>2892</td>\n",
              "      <td>NaN</td>\n",
              "      <td>第一金</td>\n",
              "      <td>First  Financial  Holding  Co.  Ltd.</td>\n",
              "      <td>1.08</td>\n",
              "      <td>100871428</td>\n",
              "    </tr>\n",
              "    <tr>\n",
              "      <th>18</th>\n",
              "      <td>5880</td>\n",
              "      <td>NaN</td>\n",
              "      <td>合庫金</td>\n",
              "      <td>Taiwan Cooperative Financial Holding Co.Ltd.</td>\n",
              "      <td>1.08</td>\n",
              "      <td>97678531</td>\n",
              "    </tr>\n",
              "    <tr>\n",
              "      <th>19</th>\n",
              "      <td>2885</td>\n",
              "      <td>NaN</td>\n",
              "      <td>元大金</td>\n",
              "      <td>Yuanta Financial Holding Co. Ltd</td>\n",
              "      <td>0.95</td>\n",
              "      <td>115921669</td>\n",
              "    </tr>\n",
              "    <tr>\n",
              "      <th>20</th>\n",
              "      <td>1326</td>\n",
              "      <td>NaN</td>\n",
              "      <td>台化</td>\n",
              "      <td>FORMOSA CHEMICALS &amp; FIBRE CORPORATION</td>\n",
              "      <td>0.92</td>\n",
              "      <td>33135046</td>\n",
              "    </tr>\n",
              "    <tr>\n",
              "      <th>21</th>\n",
              "      <td>1101</td>\n",
              "      <td>NaN</td>\n",
              "      <td>台泥</td>\n",
              "      <td>Taiwan Cement Corp.</td>\n",
              "      <td>0.92</td>\n",
              "      <td>57570220</td>\n",
              "    </tr>\n",
              "    <tr>\n",
              "      <th>22</th>\n",
              "      <td>2880</td>\n",
              "      <td>NaN</td>\n",
              "      <td>華南金</td>\n",
              "      <td>HUA NAN FINANCIAL HOLDINGS CO.LTD.</td>\n",
              "      <td>0.92</td>\n",
              "      <td>98323097</td>\n",
              "    </tr>\n",
              "    <tr>\n",
              "      <th>23</th>\n",
              "      <td>2603</td>\n",
              "      <td>NaN</td>\n",
              "      <td>長榮</td>\n",
              "      <td>EVERGREEN MARINE CORP. (TAIWAN) LTD.</td>\n",
              "      <td>0.87</td>\n",
              "      <td>24337816</td>\n",
              "    </tr>\n",
              "    <tr>\n",
              "      <th>24</th>\n",
              "      <td>2883</td>\n",
              "      <td>NaN</td>\n",
              "      <td>開發金</td>\n",
              "      <td>CHINA DEVELOPMENT FINANCIAL HOLDING CORP.</td>\n",
              "      <td>0.84</td>\n",
              "      <td>155604944</td>\n",
              "    </tr>\n",
              "    <tr>\n",
              "      <th>25</th>\n",
              "      <td>2382</td>\n",
              "      <td>NaN</td>\n",
              "      <td>廣達</td>\n",
              "      <td>QUANTA COMPUTER INC.</td>\n",
              "      <td>0.82</td>\n",
              "      <td>25750481</td>\n",
              "    </tr>\n",
              "    <tr>\n",
              "      <th>26</th>\n",
              "      <td>3008</td>\n",
              "      <td>NaN</td>\n",
              "      <td>大立光</td>\n",
              "      <td>LARGAN Precision Co.Ltd</td>\n",
              "      <td>0.76</td>\n",
              "      <td>992228</td>\n",
              "    </tr>\n",
              "    <tr>\n",
              "      <th>27</th>\n",
              "      <td>3037</td>\n",
              "      <td>NaN</td>\n",
              "      <td>欣興</td>\n",
              "      <td>Unimicron Technology Corp.</td>\n",
              "      <td>0.75</td>\n",
              "      <td>12177686</td>\n",
              "    </tr>\n",
              "    <tr>\n",
              "      <th>28</th>\n",
              "      <td>2207</td>\n",
              "      <td>NaN</td>\n",
              "      <td>和泰車</td>\n",
              "      <td>HOTAI MOTOR CO.LTD.</td>\n",
              "      <td>0.74</td>\n",
              "      <td>3087150</td>\n",
              "    </tr>\n",
              "    <tr>\n",
              "      <th>29</th>\n",
              "      <td>2357</td>\n",
              "      <td>NaN</td>\n",
              "      <td>華碩</td>\n",
              "      <td>ASUSTEK COMPUTER INC.</td>\n",
              "      <td>0.70</td>\n",
              "      <td>6826463</td>\n",
              "    </tr>\n",
              "    <tr>\n",
              "      <th>30</th>\n",
              "      <td>2887</td>\n",
              "      <td>NaN</td>\n",
              "      <td>台新金</td>\n",
              "      <td>Taishin Financial Holding Co. Ltd.</td>\n",
              "      <td>0.68</td>\n",
              "      <td>110011175</td>\n",
              "    </tr>\n",
              "    <tr>\n",
              "      <th>31</th>\n",
              "      <td>3045</td>\n",
              "      <td>NaN</td>\n",
              "      <td>台灣大</td>\n",
              "      <td>TAIWAN  MOBILE  CO. LTD.</td>\n",
              "      <td>0.68</td>\n",
              "      <td>16699225</td>\n",
              "    </tr>\n",
              "    <tr>\n",
              "      <th>32</th>\n",
              "      <td>2379</td>\n",
              "      <td>NaN</td>\n",
              "      <td>瑞昱</td>\n",
              "      <td>Realtek Semiconductor Corporation</td>\n",
              "      <td>0.64</td>\n",
              "      <td>4602684</td>\n",
              "    </tr>\n",
              "    <tr>\n",
              "      <th>33</th>\n",
              "      <td>5876</td>\n",
              "      <td>NaN</td>\n",
              "      <td>上海商銀</td>\n",
              "      <td>THE SHANGHAI COMMERCIAL &amp; SAVINGS BANK LTD.</td>\n",
              "      <td>0.64</td>\n",
              "      <td>31709286</td>\n",
              "    </tr>\n",
              "    <tr>\n",
              "      <th>34</th>\n",
              "      <td>2912</td>\n",
              "      <td>NaN</td>\n",
              "      <td>統一超</td>\n",
              "      <td>PRESIDENT CHAIN STORE CORPORATION</td>\n",
              "      <td>0.60</td>\n",
              "      <td>5433100</td>\n",
              "    </tr>\n",
              "    <tr>\n",
              "      <th>35</th>\n",
              "      <td>3034</td>\n",
              "      <td>NaN</td>\n",
              "      <td>聯詠</td>\n",
              "      <td>NOVATEK MICROELECTRONICS CORP.</td>\n",
              "      <td>0.58</td>\n",
              "      <td>5538987</td>\n",
              "    </tr>\n",
              "    <tr>\n",
              "      <th>36</th>\n",
              "      <td>2327</td>\n",
              "      <td>NaN</td>\n",
              "      <td>國巨</td>\n",
              "      <td>YAGEO CORPORATION</td>\n",
              "      <td>0.57</td>\n",
              "      <td>4449671</td>\n",
              "    </tr>\n",
              "    <tr>\n",
              "      <th>37</th>\n",
              "      <td>2609</td>\n",
              "      <td>NaN</td>\n",
              "      <td>陽明</td>\n",
              "      <td>Yang Ming Marine Transport Corp.</td>\n",
              "      <td>0.55</td>\n",
              "      <td>16905941</td>\n",
              "    </tr>\n",
              "    <tr>\n",
              "      <th>38</th>\n",
              "      <td>2409</td>\n",
              "      <td>NaN</td>\n",
              "      <td>友達</td>\n",
              "      <td>AUO Corporation</td>\n",
              "      <td>0.54</td>\n",
              "      <td>85178026</td>\n",
              "    </tr>\n",
              "    <tr>\n",
              "      <th>39</th>\n",
              "      <td>6415</td>\n",
              "      <td>NaN</td>\n",
              "      <td>矽力*-KY</td>\n",
              "      <td>Silergy Corp.</td>\n",
              "      <td>0.53</td>\n",
              "      <td>2421743</td>\n",
              "    </tr>\n",
              "    <tr>\n",
              "      <th>40</th>\n",
              "      <td>2395</td>\n",
              "      <td>NaN</td>\n",
              "      <td>研華</td>\n",
              "      <td>ADVANTECH Co. Ltd.</td>\n",
              "      <td>0.52</td>\n",
              "      <td>3997565</td>\n",
              "    </tr>\n",
              "    <tr>\n",
              "      <th>41</th>\n",
              "      <td>1590</td>\n",
              "      <td>NaN</td>\n",
              "      <td>亞德客-KY</td>\n",
              "      <td>AIRTAC INTERNATIONAL GROUP</td>\n",
              "      <td>0.50</td>\n",
              "      <td>1510382</td>\n",
              "    </tr>\n",
              "    <tr>\n",
              "      <th>42</th>\n",
              "      <td>2615</td>\n",
              "      <td>NaN</td>\n",
              "      <td>萬海</td>\n",
              "      <td>WAN HAI LINES LTD.</td>\n",
              "      <td>0.48</td>\n",
              "      <td>13585146</td>\n",
              "    </tr>\n",
              "    <tr>\n",
              "      <th>43</th>\n",
              "      <td>4904</td>\n",
              "      <td>NaN</td>\n",
              "      <td>遠傳</td>\n",
              "      <td>Far EasTone Telecommunications Co. Ltd.</td>\n",
              "      <td>0.47</td>\n",
              "      <td>15462108</td>\n",
              "    </tr>\n",
              "    <tr>\n",
              "      <th>44</th>\n",
              "      <td>2801</td>\n",
              "      <td>NaN</td>\n",
              "      <td>彰銀</td>\n",
              "      <td>CHANG HWA COMMERCIAL BANK LTD.</td>\n",
              "      <td>0.45</td>\n",
              "      <td>64138172</td>\n",
              "    </tr>\n",
              "    <tr>\n",
              "      <th>45</th>\n",
              "      <td>6505</td>\n",
              "      <td>NaN</td>\n",
              "      <td>台塑化</td>\n",
              "      <td>Formosa Petrochemical Corp</td>\n",
              "      <td>0.45</td>\n",
              "      <td>13210380</td>\n",
              "    </tr>\n",
              "    <tr>\n",
              "      <th>46</th>\n",
              "      <td>6770</td>\n",
              "      <td>NaN</td>\n",
              "      <td>力積電</td>\n",
              "      <td>Powerchip Semiconductor Manufacturing Corp.</td>\n",
              "      <td>0.34</td>\n",
              "      <td>24746973</td>\n",
              "    </tr>\n",
              "    <tr>\n",
              "      <th>47</th>\n",
              "      <td>9910</td>\n",
              "      <td>NaN</td>\n",
              "      <td>豐泰</td>\n",
              "      <td>FENG TAY ENTERPRISES CO. LTD.</td>\n",
              "      <td>0.30</td>\n",
              "      <td>4269103</td>\n",
              "    </tr>\n",
              "    <tr>\n",
              "      <th>48</th>\n",
              "      <td>8046</td>\n",
              "      <td>NaN</td>\n",
              "      <td>南電</td>\n",
              "      <td>NAN YA PRINTED CIRCUIT BOARD CORPORATION</td>\n",
              "      <td>0.22</td>\n",
              "      <td>2033256</td>\n",
              "    </tr>\n",
              "    <tr>\n",
              "      <th>49</th>\n",
              "      <td>2408</td>\n",
              "      <td>NaN</td>\n",
              "      <td>南亞科</td>\n",
              "      <td>NANYA TECHNOLOGY CORPORATION</td>\n",
              "      <td>0.17</td>\n",
              "      <td>7921999</td>\n",
              "    </tr>\n",
              "  </tbody>\n",
              "</table>\n",
              "</div>\n",
              "      <button class=\"colab-df-convert\" onclick=\"convertToInteractive('df-8917b34c-b751-4726-9231-c52425f2fb33')\"\n",
              "              title=\"Convert this dataframe to an interactive table.\"\n",
              "              style=\"display:none;\">\n",
              "        \n",
              "  <svg xmlns=\"http://www.w3.org/2000/svg\" height=\"24px\"viewBox=\"0 0 24 24\"\n",
              "       width=\"24px\">\n",
              "    <path d=\"M0 0h24v24H0V0z\" fill=\"none\"/>\n",
              "    <path d=\"M18.56 5.44l.94 2.06.94-2.06 2.06-.94-2.06-.94-.94-2.06-.94 2.06-2.06.94zm-11 1L8.5 8.5l.94-2.06 2.06-.94-2.06-.94L8.5 2.5l-.94 2.06-2.06.94zm10 10l.94 2.06.94-2.06 2.06-.94-2.06-.94-.94-2.06-.94 2.06-2.06.94z\"/><path d=\"M17.41 7.96l-1.37-1.37c-.4-.4-.92-.59-1.43-.59-.52 0-1.04.2-1.43.59L10.3 9.45l-7.72 7.72c-.78.78-.78 2.05 0 2.83L4 21.41c.39.39.9.59 1.41.59.51 0 1.02-.2 1.41-.59l7.78-7.78 2.81-2.81c.8-.78.8-2.07 0-2.86zM5.41 20L4 18.59l7.72-7.72 1.47 1.35L5.41 20z\"/>\n",
              "  </svg>\n",
              "      </button>\n",
              "      \n",
              "  <style>\n",
              "    .colab-df-container {\n",
              "      display:flex;\n",
              "      flex-wrap:wrap;\n",
              "      gap: 12px;\n",
              "    }\n",
              "\n",
              "    .colab-df-convert {\n",
              "      background-color: #E8F0FE;\n",
              "      border: none;\n",
              "      border-radius: 50%;\n",
              "      cursor: pointer;\n",
              "      display: none;\n",
              "      fill: #1967D2;\n",
              "      height: 32px;\n",
              "      padding: 0 0 0 0;\n",
              "      width: 32px;\n",
              "    }\n",
              "\n",
              "    .colab-df-convert:hover {\n",
              "      background-color: #E2EBFA;\n",
              "      box-shadow: 0px 1px 2px rgba(60, 64, 67, 0.3), 0px 1px 3px 1px rgba(60, 64, 67, 0.15);\n",
              "      fill: #174EA6;\n",
              "    }\n",
              "\n",
              "    [theme=dark] .colab-df-convert {\n",
              "      background-color: #3B4455;\n",
              "      fill: #D2E3FC;\n",
              "    }\n",
              "\n",
              "    [theme=dark] .colab-df-convert:hover {\n",
              "      background-color: #434B5C;\n",
              "      box-shadow: 0px 1px 3px 1px rgba(0, 0, 0, 0.15);\n",
              "      filter: drop-shadow(0px 1px 2px rgba(0, 0, 0, 0.3));\n",
              "      fill: #FFFFFF;\n",
              "    }\n",
              "  </style>\n",
              "\n",
              "      <script>\n",
              "        const buttonEl =\n",
              "          document.querySelector('#df-8917b34c-b751-4726-9231-c52425f2fb33 button.colab-df-convert');\n",
              "        buttonEl.style.display =\n",
              "          google.colab.kernel.accessAllowed ? 'block' : 'none';\n",
              "\n",
              "        async function convertToInteractive(key) {\n",
              "          const element = document.querySelector('#df-8917b34c-b751-4726-9231-c52425f2fb33');\n",
              "          const dataTable =\n",
              "            await google.colab.kernel.invokeFunction('convertToInteractive',\n",
              "                                                     [key], {});\n",
              "          if (!dataTable) return;\n",
              "\n",
              "          const docLinkHtml = 'Like what you see? Visit the ' +\n",
              "            '<a target=\"_blank\" href=https://colab.research.google.com/notebooks/data_table.ipynb>data table notebook</a>'\n",
              "            + ' to learn more about interactive tables.';\n",
              "          element.innerHTML = '';\n",
              "          dataTable['output_type'] = 'display_data';\n",
              "          await google.colab.output.renderOutput(dataTable, element);\n",
              "          const docLink = document.createElement('div');\n",
              "          docLink.innerHTML = docLinkHtml;\n",
              "          element.appendChild(docLink);\n",
              "        }\n",
              "      </script>\n",
              "    </div>\n",
              "  </div>\n",
              "  "
            ]
          },
          "metadata": {},
          "execution_count": 216
        }
      ]
    },
    {
      "cell_type": "markdown",
      "source": [
        "### 使用 pandas 讀取 excel 檔的地址"
      ],
      "metadata": {
        "id": "ywMHuvkEte7k"
      }
    },
    {
      "cell_type": "code",
      "source": [
        "url = \"https://odws.hccg.gov.tw/001/Upload/25/opendataback/9059/452/25d47dd1-ac2b-405f-ac52-ba2f8b3071b6.xlsx\""
      ],
      "metadata": {
        "id": "smNZ360utbhk"
      },
      "execution_count": 217,
      "outputs": []
    },
    {
      "cell_type": "code",
      "source": [
        "r = requests.get(url)"
      ],
      "metadata": {
        "id": "UEOo_uBItkNS"
      },
      "execution_count": 218,
      "outputs": []
    },
    {
      "cell_type": "code",
      "source": [
        "with open(\"test.xlsx\",\"wb\") as f:\n",
        "  f.write(r.content)"
      ],
      "metadata": {
        "id": "JkJziNdEtn4_"
      },
      "execution_count": 219,
      "outputs": []
    },
    {
      "cell_type": "code",
      "source": [
        "parking = pd.read_excel('test.xlsx')"
      ],
      "metadata": {
        "id": "J0T6tqGJtsnf"
      },
      "execution_count": 220,
      "outputs": []
    },
    {
      "cell_type": "code",
      "source": [
        "parking"
      ],
      "metadata": {
        "colab": {
          "base_uri": "https://localhost:8080/",
          "height": 1000
        },
        "id": "4ZKq2G-Ztz9h",
        "outputId": "92fba84d-ea8b-4a8b-a2ca-6468e203a8ad"
      },
      "execution_count": 221,
      "outputs": [
        {
          "output_type": "execute_result",
          "data": {
            "text/plain": [
              "          停車場名稱                   地址                營運時間  \\\n",
              "0       南門機械停車場     新竹市東區中華路二段545之1號                 24H   \n",
              "1       民富機械停車場       新竹市北區少年街49巷10號                 24H   \n",
              "2       府後地下停車場          新竹市北區府後街42號                 24H   \n",
              "3   東大陸橋停車場-中央站    新竹市東大陸橋下(中央路至民族路)                 24H   \n",
              "4   東大陸橋停車場-中華站    新竹市東大陸橋下(中華路至民族路)                 24H   \n",
              "..          ...                  ...                 ...   \n",
              "65    新竹停一機車停車場       新竹市東區信義街13號旁空地  每日00:00~24:00(24H)   \n",
              "66    新竹停二機車停車場   新竹市東區中華路2段506號對面空地  每日00:00~24:00(24H)   \n",
              "67   新竹林森站立體停車場          新竹市東區林森路18號  每日00:00~24:00(24H)   \n",
              "68    新竹港區第一停車場  新竹市北區新港一路與南寮街交叉口停車場  每日00:00~24:00(24H)   \n",
              "69    新竹港區第二停車場  新竹市北區新港一路與東大路交叉口停車場  每日00:00~24:00(24H)   \n",
              "\n",
              "                           平日收費方式                    假日收費方式  汽車總車位  汽車剩餘車位  \\\n",
              "0                        汽車：20元/H                  汽車：20元/H    150      77   \n",
              "1                        汽車：20元/H                  汽車：20元/H    240     109   \n",
              "2                        汽車：20元/H                  汽車：20元/H    292       5   \n",
              "3                        汽車：20元/H                  汽車：20元/H    216     112   \n",
              "4                        汽車：20元/H                  汽車：20元/H    146      52   \n",
              "..                            ...                       ...    ...     ...   \n",
              "65                       機車：20元/次                  機車：20元/次      0       0   \n",
              "66                       機車：20元/次                  機車：20元/次      0       0   \n",
              "67  汽車：30元/H(當日當次最高上限180元)限高200cm  汽車：30元/H(假日無最高上限)限高200cm    616       0   \n",
              "68        汽車：30元/H(週一至週四最高上限100元)         汽車：30元/H(假日無最高上限)    229     212   \n",
              "69        汽車：30元/H(週一至週四最高上限100元)         汽車：30元/H(假日無最高上限)    522     475   \n",
              "\n",
              "    機車總車位  機車剩餘車位        X座標         Y座標  \n",
              "0       0       0  24.800005  120.968525  \n",
              "1       0       0  24.806480  120.959960  \n",
              "2       0       0  24.807260  120.969783  \n",
              "3       0       0  24.807838  120.972314  \n",
              "4       0       0  24.804194  120.975029  \n",
              "..    ...     ...        ...         ...  \n",
              "65    153       0  24.801320  120.969700  \n",
              "66     91       0  24.801020  120.969830  \n",
              "67   1232       0  24.801900  120.970210  \n",
              "68      0       0  24.849015  120.927077  \n",
              "69      0       0  24.846910  120.925534  \n",
              "\n",
              "[70 rows x 11 columns]"
            ],
            "text/html": [
              "\n",
              "  <div id=\"df-e723bf4b-f6e5-4480-971d-0eb32dbb986c\">\n",
              "    <div class=\"colab-df-container\">\n",
              "      <div>\n",
              "<style scoped>\n",
              "    .dataframe tbody tr th:only-of-type {\n",
              "        vertical-align: middle;\n",
              "    }\n",
              "\n",
              "    .dataframe tbody tr th {\n",
              "        vertical-align: top;\n",
              "    }\n",
              "\n",
              "    .dataframe thead th {\n",
              "        text-align: right;\n",
              "    }\n",
              "</style>\n",
              "<table border=\"1\" class=\"dataframe\">\n",
              "  <thead>\n",
              "    <tr style=\"text-align: right;\">\n",
              "      <th></th>\n",
              "      <th>停車場名稱</th>\n",
              "      <th>地址</th>\n",
              "      <th>營運時間</th>\n",
              "      <th>平日收費方式</th>\n",
              "      <th>假日收費方式</th>\n",
              "      <th>汽車總車位</th>\n",
              "      <th>汽車剩餘車位</th>\n",
              "      <th>機車總車位</th>\n",
              "      <th>機車剩餘車位</th>\n",
              "      <th>X座標</th>\n",
              "      <th>Y座標</th>\n",
              "    </tr>\n",
              "  </thead>\n",
              "  <tbody>\n",
              "    <tr>\n",
              "      <th>0</th>\n",
              "      <td>南門機械停車場</td>\n",
              "      <td>新竹市東區中華路二段545之1號</td>\n",
              "      <td>24H</td>\n",
              "      <td>汽車：20元/H</td>\n",
              "      <td>汽車：20元/H</td>\n",
              "      <td>150</td>\n",
              "      <td>77</td>\n",
              "      <td>0</td>\n",
              "      <td>0</td>\n",
              "      <td>24.800005</td>\n",
              "      <td>120.968525</td>\n",
              "    </tr>\n",
              "    <tr>\n",
              "      <th>1</th>\n",
              "      <td>民富機械停車場</td>\n",
              "      <td>新竹市北區少年街49巷10號</td>\n",
              "      <td>24H</td>\n",
              "      <td>汽車：20元/H</td>\n",
              "      <td>汽車：20元/H</td>\n",
              "      <td>240</td>\n",
              "      <td>109</td>\n",
              "      <td>0</td>\n",
              "      <td>0</td>\n",
              "      <td>24.806480</td>\n",
              "      <td>120.959960</td>\n",
              "    </tr>\n",
              "    <tr>\n",
              "      <th>2</th>\n",
              "      <td>府後地下停車場</td>\n",
              "      <td>新竹市北區府後街42號</td>\n",
              "      <td>24H</td>\n",
              "      <td>汽車：20元/H</td>\n",
              "      <td>汽車：20元/H</td>\n",
              "      <td>292</td>\n",
              "      <td>5</td>\n",
              "      <td>0</td>\n",
              "      <td>0</td>\n",
              "      <td>24.807260</td>\n",
              "      <td>120.969783</td>\n",
              "    </tr>\n",
              "    <tr>\n",
              "      <th>3</th>\n",
              "      <td>東大陸橋停車場-中央站</td>\n",
              "      <td>新竹市東大陸橋下(中央路至民族路)</td>\n",
              "      <td>24H</td>\n",
              "      <td>汽車：20元/H</td>\n",
              "      <td>汽車：20元/H</td>\n",
              "      <td>216</td>\n",
              "      <td>112</td>\n",
              "      <td>0</td>\n",
              "      <td>0</td>\n",
              "      <td>24.807838</td>\n",
              "      <td>120.972314</td>\n",
              "    </tr>\n",
              "    <tr>\n",
              "      <th>4</th>\n",
              "      <td>東大陸橋停車場-中華站</td>\n",
              "      <td>新竹市東大陸橋下(中華路至民族路)</td>\n",
              "      <td>24H</td>\n",
              "      <td>汽車：20元/H</td>\n",
              "      <td>汽車：20元/H</td>\n",
              "      <td>146</td>\n",
              "      <td>52</td>\n",
              "      <td>0</td>\n",
              "      <td>0</td>\n",
              "      <td>24.804194</td>\n",
              "      <td>120.975029</td>\n",
              "    </tr>\n",
              "    <tr>\n",
              "      <th>...</th>\n",
              "      <td>...</td>\n",
              "      <td>...</td>\n",
              "      <td>...</td>\n",
              "      <td>...</td>\n",
              "      <td>...</td>\n",
              "      <td>...</td>\n",
              "      <td>...</td>\n",
              "      <td>...</td>\n",
              "      <td>...</td>\n",
              "      <td>...</td>\n",
              "      <td>...</td>\n",
              "    </tr>\n",
              "    <tr>\n",
              "      <th>65</th>\n",
              "      <td>新竹停一機車停車場</td>\n",
              "      <td>新竹市東區信義街13號旁空地</td>\n",
              "      <td>每日00:00~24:00(24H)</td>\n",
              "      <td>機車：20元/次</td>\n",
              "      <td>機車：20元/次</td>\n",
              "      <td>0</td>\n",
              "      <td>0</td>\n",
              "      <td>153</td>\n",
              "      <td>0</td>\n",
              "      <td>24.801320</td>\n",
              "      <td>120.969700</td>\n",
              "    </tr>\n",
              "    <tr>\n",
              "      <th>66</th>\n",
              "      <td>新竹停二機車停車場</td>\n",
              "      <td>新竹市東區中華路2段506號對面空地</td>\n",
              "      <td>每日00:00~24:00(24H)</td>\n",
              "      <td>機車：20元/次</td>\n",
              "      <td>機車：20元/次</td>\n",
              "      <td>0</td>\n",
              "      <td>0</td>\n",
              "      <td>91</td>\n",
              "      <td>0</td>\n",
              "      <td>24.801020</td>\n",
              "      <td>120.969830</td>\n",
              "    </tr>\n",
              "    <tr>\n",
              "      <th>67</th>\n",
              "      <td>新竹林森站立體停車場</td>\n",
              "      <td>新竹市東區林森路18號</td>\n",
              "      <td>每日00:00~24:00(24H)</td>\n",
              "      <td>汽車：30元/H(當日當次最高上限180元)限高200cm</td>\n",
              "      <td>汽車：30元/H(假日無最高上限)限高200cm</td>\n",
              "      <td>616</td>\n",
              "      <td>0</td>\n",
              "      <td>1232</td>\n",
              "      <td>0</td>\n",
              "      <td>24.801900</td>\n",
              "      <td>120.970210</td>\n",
              "    </tr>\n",
              "    <tr>\n",
              "      <th>68</th>\n",
              "      <td>新竹港區第一停車場</td>\n",
              "      <td>新竹市北區新港一路與南寮街交叉口停車場</td>\n",
              "      <td>每日00:00~24:00(24H)</td>\n",
              "      <td>汽車：30元/H(週一至週四最高上限100元)</td>\n",
              "      <td>汽車：30元/H(假日無最高上限)</td>\n",
              "      <td>229</td>\n",
              "      <td>212</td>\n",
              "      <td>0</td>\n",
              "      <td>0</td>\n",
              "      <td>24.849015</td>\n",
              "      <td>120.927077</td>\n",
              "    </tr>\n",
              "    <tr>\n",
              "      <th>69</th>\n",
              "      <td>新竹港區第二停車場</td>\n",
              "      <td>新竹市北區新港一路與東大路交叉口停車場</td>\n",
              "      <td>每日00:00~24:00(24H)</td>\n",
              "      <td>汽車：30元/H(週一至週四最高上限100元)</td>\n",
              "      <td>汽車：30元/H(假日無最高上限)</td>\n",
              "      <td>522</td>\n",
              "      <td>475</td>\n",
              "      <td>0</td>\n",
              "      <td>0</td>\n",
              "      <td>24.846910</td>\n",
              "      <td>120.925534</td>\n",
              "    </tr>\n",
              "  </tbody>\n",
              "</table>\n",
              "<p>70 rows × 11 columns</p>\n",
              "</div>\n",
              "      <button class=\"colab-df-convert\" onclick=\"convertToInteractive('df-e723bf4b-f6e5-4480-971d-0eb32dbb986c')\"\n",
              "              title=\"Convert this dataframe to an interactive table.\"\n",
              "              style=\"display:none;\">\n",
              "        \n",
              "  <svg xmlns=\"http://www.w3.org/2000/svg\" height=\"24px\"viewBox=\"0 0 24 24\"\n",
              "       width=\"24px\">\n",
              "    <path d=\"M0 0h24v24H0V0z\" fill=\"none\"/>\n",
              "    <path d=\"M18.56 5.44l.94 2.06.94-2.06 2.06-.94-2.06-.94-.94-2.06-.94 2.06-2.06.94zm-11 1L8.5 8.5l.94-2.06 2.06-.94-2.06-.94L8.5 2.5l-.94 2.06-2.06.94zm10 10l.94 2.06.94-2.06 2.06-.94-2.06-.94-.94-2.06-.94 2.06-2.06.94z\"/><path d=\"M17.41 7.96l-1.37-1.37c-.4-.4-.92-.59-1.43-.59-.52 0-1.04.2-1.43.59L10.3 9.45l-7.72 7.72c-.78.78-.78 2.05 0 2.83L4 21.41c.39.39.9.59 1.41.59.51 0 1.02-.2 1.41-.59l7.78-7.78 2.81-2.81c.8-.78.8-2.07 0-2.86zM5.41 20L4 18.59l7.72-7.72 1.47 1.35L5.41 20z\"/>\n",
              "  </svg>\n",
              "      </button>\n",
              "      \n",
              "  <style>\n",
              "    .colab-df-container {\n",
              "      display:flex;\n",
              "      flex-wrap:wrap;\n",
              "      gap: 12px;\n",
              "    }\n",
              "\n",
              "    .colab-df-convert {\n",
              "      background-color: #E8F0FE;\n",
              "      border: none;\n",
              "      border-radius: 50%;\n",
              "      cursor: pointer;\n",
              "      display: none;\n",
              "      fill: #1967D2;\n",
              "      height: 32px;\n",
              "      padding: 0 0 0 0;\n",
              "      width: 32px;\n",
              "    }\n",
              "\n",
              "    .colab-df-convert:hover {\n",
              "      background-color: #E2EBFA;\n",
              "      box-shadow: 0px 1px 2px rgba(60, 64, 67, 0.3), 0px 1px 3px 1px rgba(60, 64, 67, 0.15);\n",
              "      fill: #174EA6;\n",
              "    }\n",
              "\n",
              "    [theme=dark] .colab-df-convert {\n",
              "      background-color: #3B4455;\n",
              "      fill: #D2E3FC;\n",
              "    }\n",
              "\n",
              "    [theme=dark] .colab-df-convert:hover {\n",
              "      background-color: #434B5C;\n",
              "      box-shadow: 0px 1px 3px 1px rgba(0, 0, 0, 0.15);\n",
              "      filter: drop-shadow(0px 1px 2px rgba(0, 0, 0, 0.3));\n",
              "      fill: #FFFFFF;\n",
              "    }\n",
              "  </style>\n",
              "\n",
              "      <script>\n",
              "        const buttonEl =\n",
              "          document.querySelector('#df-e723bf4b-f6e5-4480-971d-0eb32dbb986c button.colab-df-convert');\n",
              "        buttonEl.style.display =\n",
              "          google.colab.kernel.accessAllowed ? 'block' : 'none';\n",
              "\n",
              "        async function convertToInteractive(key) {\n",
              "          const element = document.querySelector('#df-e723bf4b-f6e5-4480-971d-0eb32dbb986c');\n",
              "          const dataTable =\n",
              "            await google.colab.kernel.invokeFunction('convertToInteractive',\n",
              "                                                     [key], {});\n",
              "          if (!dataTable) return;\n",
              "\n",
              "          const docLinkHtml = 'Like what you see? Visit the ' +\n",
              "            '<a target=\"_blank\" href=https://colab.research.google.com/notebooks/data_table.ipynb>data table notebook</a>'\n",
              "            + ' to learn more about interactive tables.';\n",
              "          element.innerHTML = '';\n",
              "          dataTable['output_type'] = 'display_data';\n",
              "          await google.colab.output.renderOutput(dataTable, element);\n",
              "          const docLink = document.createElement('div');\n",
              "          docLink.innerHTML = docLinkHtml;\n",
              "          element.appendChild(docLink);\n",
              "        }\n",
              "      </script>\n",
              "    </div>\n",
              "  </div>\n",
              "  "
            ]
          },
          "metadata": {},
          "execution_count": 221
        }
      ]
    },
    {
      "cell_type": "code",
      "source": [
        "parking['地址']"
      ],
      "metadata": {
        "colab": {
          "base_uri": "https://localhost:8080/"
        },
        "id": "5t7NYU-8t4pT",
        "outputId": "b84020ee-b779-4f72-f03f-2d95ed1ef167"
      },
      "execution_count": 222,
      "outputs": [
        {
          "output_type": "execute_result",
          "data": {
            "text/plain": [
              "0        新竹市東區中華路二段545之1號\n",
              "1          新竹市北區少年街49巷10號\n",
              "2             新竹市北區府後街42號\n",
              "3       新竹市東大陸橋下(中央路至民族路)\n",
              "4       新竹市東大陸橋下(中華路至民族路)\n",
              "             ...         \n",
              "65         新竹市東區信義街13號旁空地\n",
              "66     新竹市東區中華路2段506號對面空地\n",
              "67            新竹市東區林森路18號\n",
              "68    新竹市北區新港一路與南寮街交叉口停車場\n",
              "69    新竹市北區新港一路與東大路交叉口停車場\n",
              "Name: 地址, Length: 70, dtype: object"
            ]
          },
          "metadata": {},
          "execution_count": 222
        }
      ]
    },
    {
      "cell_type": "code",
      "source": [
        "for x in parking['地址']:\n",
        "  print(f\"{x}的GPS座標是(lat, lng)\")"
      ],
      "metadata": {
        "colab": {
          "base_uri": "https://localhost:8080/"
        },
        "id": "s1bTzPaGuBHX",
        "outputId": "5924f488-52e6-4fae-d5ab-0f45b53692db"
      },
      "execution_count": 223,
      "outputs": [
        {
          "output_type": "stream",
          "name": "stdout",
          "text": [
            "新竹市東區中華路二段545之1號的GPS座標是(lat, lng)\n",
            "新竹市北區少年街49巷10號的GPS座標是(lat, lng)\n",
            "新竹市北區府後街42號的GPS座標是(lat, lng)\n",
            "新竹市東大陸橋下(中央路至民族路)的GPS座標是(lat, lng)\n",
            "新竹市東大陸橋下(中華路至民族路)的GPS座標是(lat, lng)\n",
            "新竹市東區西大路317號的GPS座標是(lat, lng)\n",
            "新竹市東區建中路2號的GPS座標是(lat, lng)\n",
            "新竹市香山區牛埔路387號的GPS座標是(lat, lng)\n",
            "新竹市北區國華街69號的GPS座標是(lat, lng)\n",
            "新竹市東區食品路50號的GPS座標是(lat, lng)\n",
            "新竹市東區中央路112號的GPS座標是(lat, lng)\n",
            "新竹市東區竹蓮街20號的GPS座標是(lat, lng)\n",
            "新竹市東區光復路一段89巷88之1號的GPS座標是(lat, lng)\n",
            "新竹市東區西大路41號的GPS座標是(lat, lng)\n",
            "新竹市北區延平路1段131號旁的GPS座標是(lat, lng)\n",
            "新竹市火車站後站的GPS座標是(lat, lng)\n",
            "新竹市西大路323號的GPS座標是(lat, lng)\n",
            "新竹市北區仁化街16號(網路設備更新無法傳送資料)的GPS座標是(lat, lng)\n",
            "新竹市中央路229號的GPS座標是(lat, lng)\n",
            "新竹市東區林森路18號的GPS座標是(lat, lng)\n",
            "新竹市東區錦華街11號旁停車場的GPS座標是(lat, lng)\n",
            "新竹市武陵路3號停車場的GPS座標是(lat, lng)\n",
            "新竹市武陵路3號停車場的GPS座標是(lat, lng)\n",
            "新竹市東區埔頂二路89號地下室停車場的GPS座標是(lat, lng)\n",
            "新竹市公道五路三段1號的GPS座標是(lat, lng)\n",
            "新竹市東區力行三路1號的GPS座標是(lat, lng)\n",
            "新竹市東區力行二路2號停車場的GPS座標是(lat, lng)\n",
            "新竹市東區研發二路12-1號停車場的GPS座標是(lat, lng)\n",
            "新竹市東區興業二路1號地下停車場的GPS座標是(lat, lng)\n",
            "新竹市北區湳雅街91-2號的GPS座標是(lat, lng)\n",
            "新竹市東區南大路218巷的GPS座標是(lat, lng)\n",
            "新竹市東區公竹路的GPS座標是(lat, lng)\n",
            "新竹市東區南大路140巷的GPS座標是(lat, lng)\n",
            "新竹市東區南大路140巷的GPS座標是(lat, lng)\n",
            "新竹市東區西大路41號的GPS座標是(lat, lng)\n",
            "新竹市北區湳雅街86巷旁的GPS座標是(lat, lng)\n",
            "新竹市東區經國路一段479巷1弄10號前的GPS座標是(lat, lng)\n",
            "新竹市中華路二段與信義街交叉口的GPS座標是(lat, lng)\n",
            "新竹市中華路二段495號的GPS座標是(lat, lng)\n",
            "新竹市中華路三段客雅溪旁的GPS座標是(lat, lng)\n",
            "新竹市東區忠孝路434巷旁的GPS座標是(lat, lng)\n",
            "新竹市東區民族路40號後方的GPS座標是(lat, lng)\n",
            "新竹市東區公園路295號體育館前的GPS座標是(lat, lng)\n",
            "新竹市北區中正路136巷4弄8號的GPS座標是(lat, lng)\n",
            "新竹市東區力行三路1號停車場的GPS座標是(lat, lng)\n",
            "新竹市東區力行二路2號停車場的GPS座標是(lat, lng)\n",
            "新竹市南大路140巷內的GPS座標是(lat, lng)\n",
            "新竹市南大路218巷內的GPS座標是(lat, lng)\n",
            "新竹市南大路206號旁的GPS座標是(lat, lng)\n",
            "新竹市東區中央路112號的GPS座標是(lat, lng)\n",
            "新竹市東區竹蓮街20號的GPS座標是(lat, lng)\n",
            "新竹市東區光復路一段89巷88之1號的GPS座標是(lat, lng)\n",
            "新竹市北區延平路1段131號旁的GPS座標是(lat, lng)\n",
            "新竹市成德路132號的GPS座標是(lat, lng)\n",
            "新竹市北區竹光路325號的GPS座標是(lat, lng)\n",
            "新竹市火車站後站的GPS座標是(lat, lng)\n",
            "新竹市中正路245號的GPS座標是(lat, lng)\n",
            "新竹市東大陸橋下(中央路至民族路)的GPS座標是(lat, lng)\n",
            "新竹市東大陸橋下(中華路至民族路)的GPS座標是(lat, lng)\n",
            "新竹市東區經國路一段442巷25號的GPS座標是(lat, lng)\n",
            "新竹市東區光復路一段89巷88之1號的GPS座標是(lat, lng)\n",
            "新竹市北區武陵路73巷口的GPS座標是(lat, lng)\n",
            "新竹市東區民權路216巷的GPS座標是(lat, lng)\n",
            "新竹市香山區育德街188號的GPS座標是(lat, lng)\n",
            "新竹市東區民權路216巷2號旁空地的GPS座標是(lat, lng)\n",
            "新竹市東區信義街13號旁空地的GPS座標是(lat, lng)\n",
            "新竹市東區中華路2段506號對面空地的GPS座標是(lat, lng)\n",
            "新竹市東區林森路18號的GPS座標是(lat, lng)\n",
            "新竹市北區新港一路與南寮街交叉口停車場的GPS座標是(lat, lng)\n",
            "新竹市北區新港一路與東大路交叉口停車場的GPS座標是(lat, lng)\n"
          ]
        }
      ]
    },
    {
      "cell_type": "markdown",
      "source": [
        "### 使用Pandas讀取HTML表格"
      ],
      "metadata": {
        "id": "8xaRBNl4uQnA"
      }
    },
    {
      "cell_type": "code",
      "source": [
        "df_list = pd.read_html(\"https://www.pmi.org.tw/?p=5361\")"
      ],
      "metadata": {
        "id": "J_hYuDR9uUyo"
      },
      "execution_count": 224,
      "outputs": []
    },
    {
      "cell_type": "code",
      "source": [
        "df_list[0]"
      ],
      "metadata": {
        "colab": {
          "base_uri": "https://localhost:8080/",
          "height": 332
        },
        "id": "nE_PoCg8umMI",
        "outputId": "04642872-c6a7-4b4e-d311-0edd8d0c0aa4"
      },
      "execution_count": 225,
      "outputs": [
        {
          "output_type": "execute_result",
          "data": {
            "text/plain": [
              "    參賽類型               參賽單位名稱     獎項\n",
              "0   大型企業  中華電信股份有限公司臺灣南區電信分公司  標竿企業獎\n",
              "1   大型企業           致伸科技股份有限公司  典範企業獎\n",
              "2   大型企業     香港商聯寶電腦有限公司台灣分公司  典範企業獎\n",
              "3   中小企業         日昇意定科技顧問有限公司  標竿企業獎\n",
              "4   中小企業           湯武生技企業有限公司  典範企業獎\n",
              "5   中小企業  漢翔航空工業股份有限公司民用飛機專案處  典範企業獎\n",
              "6   中小企業         大同永旭能源股份有限公司     優選\n",
              "7   中小企業           協科資訊股份有限公司     優選\n",
              "8  政府及法人                屏東縣政府     優選"
            ],
            "text/html": [
              "\n",
              "  <div id=\"df-831f4ecb-646c-48e6-8c3f-8603049a85b3\">\n",
              "    <div class=\"colab-df-container\">\n",
              "      <div>\n",
              "<style scoped>\n",
              "    .dataframe tbody tr th:only-of-type {\n",
              "        vertical-align: middle;\n",
              "    }\n",
              "\n",
              "    .dataframe tbody tr th {\n",
              "        vertical-align: top;\n",
              "    }\n",
              "\n",
              "    .dataframe thead th {\n",
              "        text-align: right;\n",
              "    }\n",
              "</style>\n",
              "<table border=\"1\" class=\"dataframe\">\n",
              "  <thead>\n",
              "    <tr style=\"text-align: right;\">\n",
              "      <th></th>\n",
              "      <th>參賽類型</th>\n",
              "      <th>參賽單位名稱</th>\n",
              "      <th>獎項</th>\n",
              "    </tr>\n",
              "  </thead>\n",
              "  <tbody>\n",
              "    <tr>\n",
              "      <th>0</th>\n",
              "      <td>大型企業</td>\n",
              "      <td>中華電信股份有限公司臺灣南區電信分公司</td>\n",
              "      <td>標竿企業獎</td>\n",
              "    </tr>\n",
              "    <tr>\n",
              "      <th>1</th>\n",
              "      <td>大型企業</td>\n",
              "      <td>致伸科技股份有限公司</td>\n",
              "      <td>典範企業獎</td>\n",
              "    </tr>\n",
              "    <tr>\n",
              "      <th>2</th>\n",
              "      <td>大型企業</td>\n",
              "      <td>香港商聯寶電腦有限公司台灣分公司</td>\n",
              "      <td>典範企業獎</td>\n",
              "    </tr>\n",
              "    <tr>\n",
              "      <th>3</th>\n",
              "      <td>中小企業</td>\n",
              "      <td>日昇意定科技顧問有限公司</td>\n",
              "      <td>標竿企業獎</td>\n",
              "    </tr>\n",
              "    <tr>\n",
              "      <th>4</th>\n",
              "      <td>中小企業</td>\n",
              "      <td>湯武生技企業有限公司</td>\n",
              "      <td>典範企業獎</td>\n",
              "    </tr>\n",
              "    <tr>\n",
              "      <th>5</th>\n",
              "      <td>中小企業</td>\n",
              "      <td>漢翔航空工業股份有限公司民用飛機專案處</td>\n",
              "      <td>典範企業獎</td>\n",
              "    </tr>\n",
              "    <tr>\n",
              "      <th>6</th>\n",
              "      <td>中小企業</td>\n",
              "      <td>大同永旭能源股份有限公司</td>\n",
              "      <td>優選</td>\n",
              "    </tr>\n",
              "    <tr>\n",
              "      <th>7</th>\n",
              "      <td>中小企業</td>\n",
              "      <td>協科資訊股份有限公司</td>\n",
              "      <td>優選</td>\n",
              "    </tr>\n",
              "    <tr>\n",
              "      <th>8</th>\n",
              "      <td>政府及法人</td>\n",
              "      <td>屏東縣政府</td>\n",
              "      <td>優選</td>\n",
              "    </tr>\n",
              "  </tbody>\n",
              "</table>\n",
              "</div>\n",
              "      <button class=\"colab-df-convert\" onclick=\"convertToInteractive('df-831f4ecb-646c-48e6-8c3f-8603049a85b3')\"\n",
              "              title=\"Convert this dataframe to an interactive table.\"\n",
              "              style=\"display:none;\">\n",
              "        \n",
              "  <svg xmlns=\"http://www.w3.org/2000/svg\" height=\"24px\"viewBox=\"0 0 24 24\"\n",
              "       width=\"24px\">\n",
              "    <path d=\"M0 0h24v24H0V0z\" fill=\"none\"/>\n",
              "    <path d=\"M18.56 5.44l.94 2.06.94-2.06 2.06-.94-2.06-.94-.94-2.06-.94 2.06-2.06.94zm-11 1L8.5 8.5l.94-2.06 2.06-.94-2.06-.94L8.5 2.5l-.94 2.06-2.06.94zm10 10l.94 2.06.94-2.06 2.06-.94-2.06-.94-.94-2.06-.94 2.06-2.06.94z\"/><path d=\"M17.41 7.96l-1.37-1.37c-.4-.4-.92-.59-1.43-.59-.52 0-1.04.2-1.43.59L10.3 9.45l-7.72 7.72c-.78.78-.78 2.05 0 2.83L4 21.41c.39.39.9.59 1.41.59.51 0 1.02-.2 1.41-.59l7.78-7.78 2.81-2.81c.8-.78.8-2.07 0-2.86zM5.41 20L4 18.59l7.72-7.72 1.47 1.35L5.41 20z\"/>\n",
              "  </svg>\n",
              "      </button>\n",
              "      \n",
              "  <style>\n",
              "    .colab-df-container {\n",
              "      display:flex;\n",
              "      flex-wrap:wrap;\n",
              "      gap: 12px;\n",
              "    }\n",
              "\n",
              "    .colab-df-convert {\n",
              "      background-color: #E8F0FE;\n",
              "      border: none;\n",
              "      border-radius: 50%;\n",
              "      cursor: pointer;\n",
              "      display: none;\n",
              "      fill: #1967D2;\n",
              "      height: 32px;\n",
              "      padding: 0 0 0 0;\n",
              "      width: 32px;\n",
              "    }\n",
              "\n",
              "    .colab-df-convert:hover {\n",
              "      background-color: #E2EBFA;\n",
              "      box-shadow: 0px 1px 2px rgba(60, 64, 67, 0.3), 0px 1px 3px 1px rgba(60, 64, 67, 0.15);\n",
              "      fill: #174EA6;\n",
              "    }\n",
              "\n",
              "    [theme=dark] .colab-df-convert {\n",
              "      background-color: #3B4455;\n",
              "      fill: #D2E3FC;\n",
              "    }\n",
              "\n",
              "    [theme=dark] .colab-df-convert:hover {\n",
              "      background-color: #434B5C;\n",
              "      box-shadow: 0px 1px 3px 1px rgba(0, 0, 0, 0.15);\n",
              "      filter: drop-shadow(0px 1px 2px rgba(0, 0, 0, 0.3));\n",
              "      fill: #FFFFFF;\n",
              "    }\n",
              "  </style>\n",
              "\n",
              "      <script>\n",
              "        const buttonEl =\n",
              "          document.querySelector('#df-831f4ecb-646c-48e6-8c3f-8603049a85b3 button.colab-df-convert');\n",
              "        buttonEl.style.display =\n",
              "          google.colab.kernel.accessAllowed ? 'block' : 'none';\n",
              "\n",
              "        async function convertToInteractive(key) {\n",
              "          const element = document.querySelector('#df-831f4ecb-646c-48e6-8c3f-8603049a85b3');\n",
              "          const dataTable =\n",
              "            await google.colab.kernel.invokeFunction('convertToInteractive',\n",
              "                                                     [key], {});\n",
              "          if (!dataTable) return;\n",
              "\n",
              "          const docLinkHtml = 'Like what you see? Visit the ' +\n",
              "            '<a target=\"_blank\" href=https://colab.research.google.com/notebooks/data_table.ipynb>data table notebook</a>'\n",
              "            + ' to learn more about interactive tables.';\n",
              "          element.innerHTML = '';\n",
              "          dataTable['output_type'] = 'display_data';\n",
              "          await google.colab.output.renderOutput(dataTable, element);\n",
              "          const docLink = document.createElement('div');\n",
              "          docLink.innerHTML = docLinkHtml;\n",
              "          element.appendChild(docLink);\n",
              "        }\n",
              "      </script>\n",
              "    </div>\n",
              "  </div>\n",
              "  "
            ]
          },
          "metadata": {},
          "execution_count": 225
        }
      ]
    },
    {
      "cell_type": "code",
      "source": [
        "df_list[1]"
      ],
      "metadata": {
        "colab": {
          "base_uri": "https://localhost:8080/",
          "height": 363
        },
        "id": "e6UIUJz9uqKH",
        "outputId": "b7f4796e-7d73-484f-e09e-8299b0a0bb6c"
      },
      "execution_count": 226,
      "outputs": [
        {
          "output_type": "execute_result",
          "data": {
            "text/plain": [
              "  專案經理人姓名               參賽單位名稱   獎項\n",
              "0     呂炯明         資拓宏宇國際股份有限公司  十專獎\n",
              "1     李得元               嘉南藥理大學  十專獎\n",
              "2     林慶和  中華電信股份有限公司臺灣南區電信分公司  十專獎\n",
              "3     侯里智     香港商聯寶電腦有限公司台灣分公司  十專獎\n",
              "4     莊信慧           中華開發金融控股公司  十專獎\n",
              "5     郭慶輝       樂高渥克公關廣告活動有限公司  十專獎\n",
              "6     陳協良       台灣世曦工程顧問股份有限公司  十專獎\n",
              "7     黃俊銘     行政院環境保護署環境監測及資訊處  十專獎\n",
              "8     黃遠鵬          麗寶大數據股份有限公司  十專獎\n",
              "9     蔡昆男           致伸科技股份有限公司  十專獎"
            ],
            "text/html": [
              "\n",
              "  <div id=\"df-5187856a-2479-4808-90d2-0960d925ad69\">\n",
              "    <div class=\"colab-df-container\">\n",
              "      <div>\n",
              "<style scoped>\n",
              "    .dataframe tbody tr th:only-of-type {\n",
              "        vertical-align: middle;\n",
              "    }\n",
              "\n",
              "    .dataframe tbody tr th {\n",
              "        vertical-align: top;\n",
              "    }\n",
              "\n",
              "    .dataframe thead th {\n",
              "        text-align: right;\n",
              "    }\n",
              "</style>\n",
              "<table border=\"1\" class=\"dataframe\">\n",
              "  <thead>\n",
              "    <tr style=\"text-align: right;\">\n",
              "      <th></th>\n",
              "      <th>專案經理人姓名</th>\n",
              "      <th>參賽單位名稱</th>\n",
              "      <th>獎項</th>\n",
              "    </tr>\n",
              "  </thead>\n",
              "  <tbody>\n",
              "    <tr>\n",
              "      <th>0</th>\n",
              "      <td>呂炯明</td>\n",
              "      <td>資拓宏宇國際股份有限公司</td>\n",
              "      <td>十專獎</td>\n",
              "    </tr>\n",
              "    <tr>\n",
              "      <th>1</th>\n",
              "      <td>李得元</td>\n",
              "      <td>嘉南藥理大學</td>\n",
              "      <td>十專獎</td>\n",
              "    </tr>\n",
              "    <tr>\n",
              "      <th>2</th>\n",
              "      <td>林慶和</td>\n",
              "      <td>中華電信股份有限公司臺灣南區電信分公司</td>\n",
              "      <td>十專獎</td>\n",
              "    </tr>\n",
              "    <tr>\n",
              "      <th>3</th>\n",
              "      <td>侯里智</td>\n",
              "      <td>香港商聯寶電腦有限公司台灣分公司</td>\n",
              "      <td>十專獎</td>\n",
              "    </tr>\n",
              "    <tr>\n",
              "      <th>4</th>\n",
              "      <td>莊信慧</td>\n",
              "      <td>中華開發金融控股公司</td>\n",
              "      <td>十專獎</td>\n",
              "    </tr>\n",
              "    <tr>\n",
              "      <th>5</th>\n",
              "      <td>郭慶輝</td>\n",
              "      <td>樂高渥克公關廣告活動有限公司</td>\n",
              "      <td>十專獎</td>\n",
              "    </tr>\n",
              "    <tr>\n",
              "      <th>6</th>\n",
              "      <td>陳協良</td>\n",
              "      <td>台灣世曦工程顧問股份有限公司</td>\n",
              "      <td>十專獎</td>\n",
              "    </tr>\n",
              "    <tr>\n",
              "      <th>7</th>\n",
              "      <td>黃俊銘</td>\n",
              "      <td>行政院環境保護署環境監測及資訊處</td>\n",
              "      <td>十專獎</td>\n",
              "    </tr>\n",
              "    <tr>\n",
              "      <th>8</th>\n",
              "      <td>黃遠鵬</td>\n",
              "      <td>麗寶大數據股份有限公司</td>\n",
              "      <td>十專獎</td>\n",
              "    </tr>\n",
              "    <tr>\n",
              "      <th>9</th>\n",
              "      <td>蔡昆男</td>\n",
              "      <td>致伸科技股份有限公司</td>\n",
              "      <td>十專獎</td>\n",
              "    </tr>\n",
              "  </tbody>\n",
              "</table>\n",
              "</div>\n",
              "      <button class=\"colab-df-convert\" onclick=\"convertToInteractive('df-5187856a-2479-4808-90d2-0960d925ad69')\"\n",
              "              title=\"Convert this dataframe to an interactive table.\"\n",
              "              style=\"display:none;\">\n",
              "        \n",
              "  <svg xmlns=\"http://www.w3.org/2000/svg\" height=\"24px\"viewBox=\"0 0 24 24\"\n",
              "       width=\"24px\">\n",
              "    <path d=\"M0 0h24v24H0V0z\" fill=\"none\"/>\n",
              "    <path d=\"M18.56 5.44l.94 2.06.94-2.06 2.06-.94-2.06-.94-.94-2.06-.94 2.06-2.06.94zm-11 1L8.5 8.5l.94-2.06 2.06-.94-2.06-.94L8.5 2.5l-.94 2.06-2.06.94zm10 10l.94 2.06.94-2.06 2.06-.94-2.06-.94-.94-2.06-.94 2.06-2.06.94z\"/><path d=\"M17.41 7.96l-1.37-1.37c-.4-.4-.92-.59-1.43-.59-.52 0-1.04.2-1.43.59L10.3 9.45l-7.72 7.72c-.78.78-.78 2.05 0 2.83L4 21.41c.39.39.9.59 1.41.59.51 0 1.02-.2 1.41-.59l7.78-7.78 2.81-2.81c.8-.78.8-2.07 0-2.86zM5.41 20L4 18.59l7.72-7.72 1.47 1.35L5.41 20z\"/>\n",
              "  </svg>\n",
              "      </button>\n",
              "      \n",
              "  <style>\n",
              "    .colab-df-container {\n",
              "      display:flex;\n",
              "      flex-wrap:wrap;\n",
              "      gap: 12px;\n",
              "    }\n",
              "\n",
              "    .colab-df-convert {\n",
              "      background-color: #E8F0FE;\n",
              "      border: none;\n",
              "      border-radius: 50%;\n",
              "      cursor: pointer;\n",
              "      display: none;\n",
              "      fill: #1967D2;\n",
              "      height: 32px;\n",
              "      padding: 0 0 0 0;\n",
              "      width: 32px;\n",
              "    }\n",
              "\n",
              "    .colab-df-convert:hover {\n",
              "      background-color: #E2EBFA;\n",
              "      box-shadow: 0px 1px 2px rgba(60, 64, 67, 0.3), 0px 1px 3px 1px rgba(60, 64, 67, 0.15);\n",
              "      fill: #174EA6;\n",
              "    }\n",
              "\n",
              "    [theme=dark] .colab-df-convert {\n",
              "      background-color: #3B4455;\n",
              "      fill: #D2E3FC;\n",
              "    }\n",
              "\n",
              "    [theme=dark] .colab-df-convert:hover {\n",
              "      background-color: #434B5C;\n",
              "      box-shadow: 0px 1px 3px 1px rgba(0, 0, 0, 0.15);\n",
              "      filter: drop-shadow(0px 1px 2px rgba(0, 0, 0, 0.3));\n",
              "      fill: #FFFFFF;\n",
              "    }\n",
              "  </style>\n",
              "\n",
              "      <script>\n",
              "        const buttonEl =\n",
              "          document.querySelector('#df-5187856a-2479-4808-90d2-0960d925ad69 button.colab-df-convert');\n",
              "        buttonEl.style.display =\n",
              "          google.colab.kernel.accessAllowed ? 'block' : 'none';\n",
              "\n",
              "        async function convertToInteractive(key) {\n",
              "          const element = document.querySelector('#df-5187856a-2479-4808-90d2-0960d925ad69');\n",
              "          const dataTable =\n",
              "            await google.colab.kernel.invokeFunction('convertToInteractive',\n",
              "                                                     [key], {});\n",
              "          if (!dataTable) return;\n",
              "\n",
              "          const docLinkHtml = 'Like what you see? Visit the ' +\n",
              "            '<a target=\"_blank\" href=https://colab.research.google.com/notebooks/data_table.ipynb>data table notebook</a>'\n",
              "            + ' to learn more about interactive tables.';\n",
              "          element.innerHTML = '';\n",
              "          dataTable['output_type'] = 'display_data';\n",
              "          await google.colab.output.renderOutput(dataTable, element);\n",
              "          const docLink = document.createElement('div');\n",
              "          docLink.innerHTML = docLinkHtml;\n",
              "          element.appendChild(docLink);\n",
              "        }\n",
              "      </script>\n",
              "    </div>\n",
              "  </div>\n",
              "  "
            ]
          },
          "metadata": {},
          "execution_count": 226
        }
      ]
    }
  ]
}